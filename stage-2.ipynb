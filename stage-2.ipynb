{
 "cells": [
  {
   "cell_type": "markdown",
   "metadata": {},
   "source": [
    "# Cipher Challenge\n",
    "From [Simon Singh's The Code Book](https://simonsingh.net/cryptography/cipher-challenge/the-ciphertexts/)\n",
    "## Stage 2\n",
    "Caesar Shift Cipher"
   ]
  },
  {
   "cell_type": "code",
   "execution_count": 4,
   "metadata": {},
   "outputs": [
    {
     "name": "stdout",
     "output_type": "stream",
     "text": [
      "\n",
      "MHILY LZA ZBHL XBPZXBL MVYABUHL HWWPBZ JSHBKPBZ JHLJBZ\n",
      "KPJABT HYJHUBT LZA ULBAYVU\n"
     ]
    }
   ],
   "source": [
    "cipher_text = \"\"\"\n",
    "MHILY LZA ZBHL XBPZXBL MVYABUHL HWWPBZ JSHBKPBZ JHLJBZ\n",
    "KPJABT HYJHUBT LZA ULBAYVU\"\"\"\n",
    "print(cipher_text)"
   ]
  },
  {
   "cell_type": "markdown",
   "metadata": {},
   "source": [
    "If it is a Caesar shift, we ca just try them all and look at what makes sense"
   ]
  },
  {
   "cell_type": "code",
   "execution_count": 12,
   "metadata": {},
   "outputs": [],
   "source": [
    "def decaler_texte(texte, decalage):\n",
    "    \"\"\"Decale le texte de `decalage` letters\"\"\"\n",
    "    letters = \"ABCDEFGHIJKLMNOPQRSTUVWXYZ\"\n",
    "    deciphered_text = \"\"\n",
    "    for letter in texte:\n",
    "        if letter not in letters:\n",
    "            # spaces, punctuation\n",
    "            new_letter = letter\n",
    "        else:\n",
    "            indice = letters.index(letter)\n",
    "            new_ind = (indice + decalage) % 26\n",
    "            new_letter = letters[new_ind]\n",
    "        deciphered_text += new_letter\n",
    "    print(deciphered_text)"
   ]
  },
  {
   "cell_type": "code",
   "execution_count": 15,
   "metadata": {},
   "outputs": [
    {
     "name": "stdout",
     "output_type": "stream",
     "text": [
      "\n",
      "NIJMZ MAB ACIM YCQAYCM NWZBCVIM IXXQCA KTICLQCA KIMKCA\n",
      "LQKBCU IZKIVCU MAB VMCBZWV\n",
      "1\n",
      "\n",
      "OJKNA NBC BDJN ZDRBZDN OXACDWJN JYYRDB LUJDMRDB LJNLDB\n",
      "MRLCDV JALJWDV NBC WNDCAXW\n",
      "2\n",
      "\n",
      "PKLOB OCD CEKO AESCAEO PYBDEXKO KZZSEC MVKENSEC MKOMEC\n",
      "NSMDEW KBMKXEW OCD XOEDBYX\n",
      "3\n",
      "\n",
      "QLMPC PDE DFLP BFTDBFP QZCEFYLP LAATFD NWLFOTFD NLPNFD\n",
      "OTNEFX LCNLYFX PDE YPFECZY\n",
      "4\n",
      "\n",
      "RMNQD QEF EGMQ CGUECGQ RADFGZMQ MBBUGE OXMGPUGE OMQOGE\n",
      "PUOFGY MDOMZGY QEF ZQGFDAZ\n",
      "5\n",
      "\n",
      "SNORE RFG FHNR DHVFDHR SBEGHANR NCCVHF PYNHQVHF PNRPHF\n",
      "QVPGHZ NEPNAHZ RFG ARHGEBA\n",
      "6\n",
      "\n",
      "TOPSF SGH GIOS EIWGEIS TCFHIBOS ODDWIG QZOIRWIG QOSQIG\n",
      "RWQHIA OFQOBIA SGH BSIHFCB\n",
      "7\n",
      "\n",
      "UPQTG THI HJPT FJXHFJT UDGIJCPT PEEXJH RAPJSXJH RPTRJH\n",
      "SXRIJB PGRPCJB THI CTJIGDC\n",
      "8\n",
      "\n",
      "VQRUH UIJ IKQU GKYIGKU VEHJKDQU QFFYKI SBQKTYKI SQUSKI\n",
      "TYSJKC QHSQDKC UIJ DUKJHED\n",
      "9\n",
      "\n",
      "WRSVI VJK JLRV HLZJHLV WFIKLERV RGGZLJ TCRLUZLJ TRVTLJ\n",
      "UZTKLD RITRELD VJK EVLKIFE\n",
      "10\n",
      "\n",
      "XSTWJ WKL KMSW IMAKIMW XGJLMFSW SHHAMK UDSMVAMK USWUMK\n",
      "VAULME SJUSFME WKL FWMLJGF\n",
      "11\n",
      "\n",
      "YTUXK XLM LNTX JNBLJNX YHKMNGTX TIIBNL VETNWBNL VTXVNL\n",
      "WBVMNF TKVTGNF XLM GXNMKHG\n",
      "12\n",
      "\n",
      "ZUVYL YMN MOUY KOCMKOY ZILNOHUY UJJCOM WFUOXCOM WUYWOM\n",
      "XCWNOG ULWUHOG YMN HYONLIH\n",
      "13\n",
      "\n",
      "AVWZM ZNO NPVZ LPDNLPZ AJMOPIVZ VKKDPN XGVPYDPN XVZXPN\n",
      "YDXOPH VMXVIPH ZNO IZPOMJI\n",
      "14\n",
      "\n",
      "BWXAN AOP OQWA MQEOMQA BKNPQJWA WLLEQO YHWQZEQO YWAYQO\n",
      "ZEYPQI WNYWJQI AOP JAQPNKJ\n",
      "15\n",
      "\n",
      "CXYBO BPQ PRXB NRFPNRB CLOQRKXB XMMFRP ZIXRAFRP ZXBZRP\n",
      "AFZQRJ XOZXKRJ BPQ KBRQOLK\n",
      "16\n",
      "\n",
      "DYZCP CQR QSYC OSGQOSC DMPRSLYC YNNGSQ AJYSBGSQ AYCASQ\n",
      "BGARSK YPAYLSK CQR LCSRPML\n",
      "17\n",
      "\n",
      "EZADQ DRS RTZD PTHRPTD ENQSTMZD ZOOHTR BKZTCHTR BZDBTR\n",
      "CHBSTL ZQBZMTL DRS MDTSQNM\n",
      "18\n",
      "\n",
      "FABER EST SUAE QUISQUE FORTUNAE APPIUS CLAUDIUS CAECUS\n",
      "DICTUM ARCANUM EST NEUTRON\n",
      "19\n",
      "\n",
      "GBCFS FTU TVBF RVJTRVF GPSUVOBF BQQJVT DMBVEJVT DBFDVT\n",
      "EJDUVN BSDBOVN FTU OFVUSPO\n",
      "20\n",
      "\n",
      "HCDGT GUV UWCG SWKUSWG HQTVWPCG CRRKWU ENCWFKWU ECGEWU\n",
      "FKEVWO CTECPWO GUV PGWVTQP\n",
      "21\n",
      "\n",
      "IDEHU HVW VXDH TXLVTXH IRUWXQDH DSSLXV FODXGLXV FDHFXV\n",
      "GLFWXP DUFDQXP HVW QHXWURQ\n",
      "22\n",
      "\n",
      "JEFIV IWX WYEI UYMWUYI JSVXYREI ETTMYW GPEYHMYW GEIGYW\n",
      "HMGXYQ EVGERYQ IWX RIYXVSR\n",
      "23\n",
      "\n",
      "KFGJW JXY XZFJ VZNXVZJ KTWYZSFJ FUUNZX HQFZINZX HFJHZX\n",
      "INHYZR FWHFSZR JXY SJZYWTS\n",
      "24\n",
      "\n",
      "LGHKX KYZ YAGK WAOYWAK LUXZATGK GVVOAY IRGAJOAY IGKIAY\n",
      "JOIZAS GXIGTAS KYZ TKAZXUT\n",
      "25\n"
     ]
    }
   ],
   "source": [
    "for i in range(1, 26):\n",
    "    decaler_texte(cipher_text, i)\n",
    "    print(i)"
   ]
  },
  {
   "cell_type": "markdown",
   "metadata": {},
   "source": [
    "With a shift of 18, I notice that it looks like latin :\n",
    "\n",
    "FABER EST SUAE QUISQUE FORTUNAE APPIUS CLAUDIUS CAECUS\n",
    "DICTUM ARCANUM EST NEUTRON\n",
    "\n",
    "Which can be found [here](https://en.wikipedia.org/wiki/List_of_Latin_phrases_(F)), so victory!"
   ]
  },
  {
   "cell_type": "code",
   "execution_count": null,
   "metadata": {},
   "outputs": [],
   "source": []
  }
 ],
 "metadata": {
  "kernelspec": {
   "display_name": "Python 3",
   "language": "python",
   "name": "python3"
  },
  "language_info": {
   "codemirror_mode": {
    "name": "ipython",
    "version": 3
   },
   "file_extension": ".py",
   "mimetype": "text/x-python",
   "name": "python",
   "nbconvert_exporter": "python",
   "pygments_lexer": "ipython3",
   "version": "3.6.6"
  }
 },
 "nbformat": 4,
 "nbformat_minor": 2
}
