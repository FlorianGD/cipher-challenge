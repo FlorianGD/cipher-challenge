{
 "cells": [
  {
   "cell_type": "markdown",
   "metadata": {},
   "source": [
    "# Cipher Challenge\n",
    "From [Simon Singh's The Code Book](https://simonsingh.net/cryptography/cipher-challenge/the-ciphertexts/)\n",
    "## Stage 4\n",
    "Vigenere Cipher"
   ]
  },
  {
   "cell_type": "code",
   "execution_count": 1,
   "metadata": {},
   "outputs": [],
   "source": [
    "cipher_text = \"\"\"    K Q O W E F V J P U J U U N U K G L M E K J I\n",
    "\n",
    "    N M W U X F Q M K J B G W R L F N F G H U D W\n",
    "\n",
    "    U U M B S V L P S N C M U E K Q C T E S W R E\n",
    "\n",
    "    E K O Y S S I W C T U A X Y O T A P X P L W P\n",
    "\n",
    "    N T C G O J B G F Q H T D W X I Z A Y G F F N\n",
    "\n",
    "    S X C S E Y N C T S S P N T U J N Y T G G W Z\n",
    "\n",
    "    G R W U U N E J U U Q E A P Y M E K Q H U I D\n",
    "\n",
    "    U X F P G U Y T S M T F F S H N U O C Z G M R\n",
    "\n",
    "    U W E Y T R G K M E E D C T V R E C F B D J Q\n",
    "\n",
    "    C U S W V B P N L G O Y L S K M T E F V J J T\n",
    "\n",
    "    W W M F M W P N M E M T M H R S P X F S S K F\n",
    "\n",
    "    F S T N U O C Z G M D O E O Y E E K C P J R G\n",
    "\n",
    "    P M U R S K H F R S E I U E V G O Y C W X I Z\n",
    "\n",
    "    A Y G O S A A N Y D O E O Y J L W U N H A M E\n",
    "\n",
    "    B F E L X Y V L W N O J N S I O F R W U C C E\n",
    "\n",
    "    S W K V I D G M U C G O C R U W G N M A A F F\n",
    "\n",
    "    V N S I U D E K Q H C E U C P F C M P V S U D\n",
    "\n",
    "    G A V E M N Y M A M V L F M A O Y F N T Q C U\n",
    "\n",
    "    A F V F J N X K L N E I W C W O D C C U L W R\n",
    "\n",
    "    I F T W G M U S W O V M A T N Y B U H T C O C\n",
    "\n",
    "    W F Y T N M G Y T Q M K B B N L G F B T W O J\n",
    "\n",
    "    F T W G N T E J K N E E D C L D H W T V B U V\n",
    "\n",
    "    G F B I J G Y Y I D G M V R D G M P L S W G J\n",
    "\n",
    "    L A G O E E K J O F E K N Y N O L R I V R W V\n",
    "\n",
    "    U H E I W U U R W G M U T J C D B N K G M B I\n",
    "\n",
    "    D G M E E Y G U O T D G G Q E U J Y O T V G G\n",
    "\n",
    "    B R U J Y S\"\"\""
   ]
  },
  {
   "cell_type": "markdown",
   "metadata": {},
   "source": [
    "Let's remove all the spaces and line breaks that appeared when copying and pasting from the web page."
   ]
  },
  {
   "cell_type": "code",
   "execution_count": 2,
   "metadata": {},
   "outputs": [],
   "source": [
    "cipher_text = \"\".join(cipher_text.split())"
   ]
  },
  {
   "cell_type": "code",
   "execution_count": 3,
   "metadata": {},
   "outputs": [
    {
     "data": {
      "text/plain": [
       "'KQOWEFVJPUJUUNUKGLMEKJINMWUXFQMKJBGWRLFNFGHUDWUUMBSVLPSNCMUEKQCTESWREEKOYSSIWCTUAXYOTAPXPLWPNTCGOJBGFQHTDWXIZAYGFFNSXCSEYNCTSSPNTUJNYTGGWZGRWUUNEJUUQEAPYMEKQHUIDUXFPGUYTSMTFFSHNUOCZGMRUWEYTRGKMEEDCTVRECFBDJQCUSWVBPNLGOYLSKMTEFVJJTWWMFMWPNMEMTMHRSPXFSSKFFSTNUOCZGMDOEOYEEKCPJRGPMURSKHFRSEIUEVGOYCWXIZAYGOSAANYDOEOYJLWUNHAMEBFELXYVLWNOJNSIOFRWUCCESWKVIDGMUCGOCRUWGNMAAFFVNSIUDEKQHCEUCPFCMPVSUDGAVEMNYMAMVLFMAOYFNTQCUAFVFJNXKLNEIWCWODCCULWRIFTWGMUSWOVMATNYBUHTCOCWFYTNMGYTQMKBBNLGFBTWOJFTWGNTEJKNEEDCLDHWTVBUVGFBIJGYYIDGMVRDGMPLSWGJLAGOEEKJOFEKNYNOLRIVRWVUHEIWUURWGMUTJCDBNKGMBIDGMEEYGUOTDGGQEUJYOTVGGBRUJYS'"
      ]
     },
     "execution_count": 3,
     "metadata": {},
     "output_type": "execute_result"
    }
   ],
   "source": [
    "cipher_text"
   ]
  },
  {
   "cell_type": "markdown",
   "metadata": {},
   "source": [
    "## Strategy\n",
    "To break the Vignere cipher, we need to find sequences of more than 4 letters that are repeated. Then we measure how many characters there are between the repetitions, so we can compute the length of the key. Then we can extract all the monoalphabetic ciphers, and work on each one."
   ]
  },
  {
   "cell_type": "markdown",
   "metadata": {},
   "source": [
    "## Finding the length of the key\n",
    "### Figuring out repeated sequences\n",
    "\n"
   ]
  },
  {
   "cell_type": "code",
   "execution_count": 4,
   "metadata": {},
   "outputs": [
    {
     "name": "stdout",
     "output_type": "stream",
     "text": [
      "604\n"
     ]
    }
   ],
   "source": [
    "sequence_length = 10\n",
    "total_length = len(cipher_text)\n",
    "print(total_length)"
   ]
  },
  {
   "cell_type": "code",
   "execution_count": 5,
   "metadata": {},
   "outputs": [
    {
     "name": "stdout",
     "output_type": "stream",
     "text": [
      "KQOWEFVJPU\n"
     ]
    }
   ],
   "source": [
    "word1 = cipher_text[:sequence_length]\n",
    "print(word1)"
   ]
  },
  {
   "cell_type": "code",
   "execution_count": 6,
   "metadata": {},
   "outputs": [],
   "source": [
    "def check_length(sequence_length, cipher_text=cipher_text):\n",
    "    \"\"\"Check repetition of sequences of a given length in the cipher text\"\"\"\n",
    "    repeated = []\n",
    "    for i in range(1, total_length - 2 * sequence_length):\n",
    "        seq_to_test = cipher_text[i:i+sequence_length]\n",
    "        if (cipher_text.count(seq_to_test) > 1) & (seq_to_test not in repeated):\n",
    "            repeated.append(seq_to_test)\n",
    "    return repeated"
   ]
  },
  {
   "cell_type": "code",
   "execution_count": 41,
   "metadata": {},
   "outputs": [],
   "source": [
    "repetition = {}\n",
    "for seq_len in range(10, 3, -1):\n",
    "    repetition[seq_len] = check_length(seq_len)"
   ]
  },
  {
   "cell_type": "code",
   "execution_count": 42,
   "metadata": {},
   "outputs": [
    {
     "data": {
      "text/plain": [
       "{10: [],\n",
       " 9: [],\n",
       " 8: [],\n",
       " 7: ['WXIZAYG', 'NUOCZGM'],\n",
       " 6: ['WXIZAY', 'XIZAYG', 'NUOCZG', 'UOCZGM'],\n",
       " 5: ['WXIZA', 'XIZAY', 'IZAYG', 'NUOCZ', 'UOCZG', 'OCZGM', 'DOEOY'],\n",
       " 4: ['EFVJ',\n",
       "  'WXIZ',\n",
       "  'XIZA',\n",
       "  'IZAY',\n",
       "  'ZAYG',\n",
       "  'EKQH',\n",
       "  'NUOC',\n",
       "  'UOCZ',\n",
       "  'OCZG',\n",
       "  'CZGM',\n",
       "  'EEDC',\n",
       "  'DOEO',\n",
       "  'OEOY',\n",
       "  'IDGM',\n",
       "  'FTWG',\n",
       "  'WGMU']}"
      ]
     },
     "execution_count": 42,
     "metadata": {},
     "output_type": "execute_result"
    }
   ],
   "source": [
    "repetition"
   ]
  },
  {
   "cell_type": "markdown",
   "metadata": {},
   "source": [
    "We notice that some shorter words are subparts of longer words, we should remove them."
   ]
  },
  {
   "cell_type": "code",
   "execution_count": 43,
   "metadata": {},
   "outputs": [],
   "source": [
    "all_words = [word for list_of_words in repetition.values() for word in list_of_words]"
   ]
  },
  {
   "cell_type": "code",
   "execution_count": 45,
   "metadata": {},
   "outputs": [],
   "source": [
    "sub_words = [word for word1 in all_words for word in all_words if word in word1 and word != word1]"
   ]
  },
  {
   "cell_type": "code",
   "execution_count": 46,
   "metadata": {},
   "outputs": [],
   "source": [
    "unique_words = set(all_words) - set(sub_words)"
   ]
  },
  {
   "cell_type": "code",
   "execution_count": 47,
   "metadata": {},
   "outputs": [
    {
     "name": "stdout",
     "output_type": "stream",
     "text": [
      "{'WXIZAYG', 'FTWG', 'EFVJ', 'DOEOY', 'EKQH', 'NUOCZGM', 'IDGM', 'WGMU', 'EEDC'}\n"
     ]
    }
   ],
   "source": [
    "print(unique_words)"
   ]
  },
  {
   "cell_type": "markdown",
   "metadata": {},
   "source": [
    "Now we have the minimal list of repeated words, we have to find the distance between the repetition."
   ]
  },
  {
   "cell_type": "code",
   "execution_count": 48,
   "metadata": {},
   "outputs": [],
   "source": [
    "import re"
   ]
  },
  {
   "cell_type": "code",
   "execution_count": 52,
   "metadata": {},
   "outputs": [],
   "source": [
    "indices = [[m.start() for m in re.finditer(word, cipher_text)]for word in unique_words]"
   ]
  },
  {
   "cell_type": "code",
   "execution_count": 53,
   "metadata": {},
   "outputs": [
    {
     "data": {
      "text/plain": [
       "[[105, 295],\n",
       " [438, 483],\n",
       " [4, 224],\n",
       " [263, 308],\n",
       " [154, 374],\n",
       " [176, 256],\n",
       " [349, 514, 574],\n",
       " [440, 560],\n",
       " [193, 493]]"
      ]
     },
     "execution_count": 53,
     "metadata": {},
     "output_type": "execute_result"
    }
   ],
   "source": [
    "indices"
   ]
  },
  {
   "cell_type": "code",
   "execution_count": 58,
   "metadata": {},
   "outputs": [],
   "source": [
    "differences = []\n",
    "for line in indices:\n",
    "    iter_line = iter(line)\n",
    "    start = next(iter_line)\n",
    "    for i in iter_line:\n",
    "        differences.append(i - start)\n",
    "        start = i"
   ]
  },
  {
   "cell_type": "code",
   "execution_count": 59,
   "metadata": {},
   "outputs": [
    {
     "data": {
      "text/plain": [
       "[190, 45, 220, 45, 220, 80, 165, 60, 120, 300]"
      ]
     },
     "execution_count": 59,
     "metadata": {},
     "output_type": "execute_result"
    }
   ],
   "source": [
    "differences"
   ]
  },
  {
   "cell_type": "code",
   "execution_count": 62,
   "metadata": {},
   "outputs": [],
   "source": [
    "from math import gcd\n",
    "from functools import reduce"
   ]
  },
  {
   "cell_type": "code",
   "execution_count": 63,
   "metadata": {},
   "outputs": [
    {
     "data": {
      "text/plain": [
       "5"
      ]
     },
     "execution_count": 63,
     "metadata": {},
     "output_type": "execute_result"
    }
   ],
   "source": [
    "reduce(gcd, differences)"
   ]
  },
  {
   "cell_type": "markdown",
   "metadata": {},
   "source": [
    "So there we have it, the length of the Vignere key is 5."
   ]
  },
  {
   "cell_type": "code",
   "execution_count": null,
   "metadata": {},
   "outputs": [],
   "source": []
  }
 ],
 "metadata": {
  "kernelspec": {
   "display_name": "Python 3",
   "language": "python",
   "name": "python3"
  },
  "language_info": {
   "codemirror_mode": {
    "name": "ipython",
    "version": 3
   },
   "file_extension": ".py",
   "mimetype": "text/x-python",
   "name": "python",
   "nbconvert_exporter": "python",
   "pygments_lexer": "ipython3",
   "version": "3.6.6"
  }
 },
 "nbformat": 4,
 "nbformat_minor": 2
}
