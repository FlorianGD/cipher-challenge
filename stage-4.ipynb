{
 "cells": [
  {
   "cell_type": "markdown",
   "metadata": {},
   "source": [
    "# Cipher Challenge\n",
    "From [Simon Singh's The Code Book](https://simonsingh.net/cryptography/cipher-challenge/the-ciphertexts/)\n",
    "## Stage 4\n",
    "Vigenere Cipher"
   ]
  },
  {
   "cell_type": "code",
   "execution_count": 1,
   "metadata": {},
   "outputs": [],
   "source": [
    "cipher_text = \"\"\"    K Q O W E F V J P U J U U N U K G L M E K J I\n",
    "\n",
    "    N M W U X F Q M K J B G W R L F N F G H U D W\n",
    "\n",
    "    U U M B S V L P S N C M U E K Q C T E S W R E\n",
    "\n",
    "    E K O Y S S I W C T U A X Y O T A P X P L W P\n",
    "\n",
    "    N T C G O J B G F Q H T D W X I Z A Y G F F N\n",
    "\n",
    "    S X C S E Y N C T S S P N T U J N Y T G G W Z\n",
    "\n",
    "    G R W U U N E J U U Q E A P Y M E K Q H U I D\n",
    "\n",
    "    U X F P G U Y T S M T F F S H N U O C Z G M R\n",
    "\n",
    "    U W E Y T R G K M E E D C T V R E C F B D J Q\n",
    "\n",
    "    C U S W V B P N L G O Y L S K M T E F V J J T\n",
    "\n",
    "    W W M F M W P N M E M T M H R S P X F S S K F\n",
    "\n",
    "    F S T N U O C Z G M D O E O Y E E K C P J R G\n",
    "\n",
    "    P M U R S K H F R S E I U E V G O Y C W X I Z\n",
    "\n",
    "    A Y G O S A A N Y D O E O Y J L W U N H A M E\n",
    "\n",
    "    B F E L X Y V L W N O J N S I O F R W U C C E\n",
    "\n",
    "    S W K V I D G M U C G O C R U W G N M A A F F\n",
    "\n",
    "    V N S I U D E K Q H C E U C P F C M P V S U D\n",
    "\n",
    "    G A V E M N Y M A M V L F M A O Y F N T Q C U\n",
    "\n",
    "    A F V F J N X K L N E I W C W O D C C U L W R\n",
    "\n",
    "    I F T W G M U S W O V M A T N Y B U H T C O C\n",
    "\n",
    "    W F Y T N M G Y T Q M K B B N L G F B T W O J\n",
    "\n",
    "    F T W G N T E J K N E E D C L D H W T V B U V\n",
    "\n",
    "    G F B I J G Y Y I D G M V R D G M P L S W G J\n",
    "\n",
    "    L A G O E E K J O F E K N Y N O L R I V R W V\n",
    "\n",
    "    U H E I W U U R W G M U T J C D B N K G M B I\n",
    "\n",
    "    D G M E E Y G U O T D G G Q E U J Y O T V G G\n",
    "\n",
    "    B R U J Y S\"\"\""
   ]
  },
  {
   "cell_type": "markdown",
   "metadata": {},
   "source": [
    "Let's remove all the spaces and line breaks that appeared when copying and pasting from the web page."
   ]
  },
  {
   "cell_type": "code",
   "execution_count": 2,
   "metadata": {},
   "outputs": [],
   "source": [
    "cipher_text = \"\".join(cipher_text.split())"
   ]
  },
  {
   "cell_type": "code",
   "execution_count": 3,
   "metadata": {},
   "outputs": [
    {
     "data": {
      "text/plain": [
       "'KQOWEFVJPUJUUNUKGLMEKJINMWUXFQMKJBGWRLFNFGHUDWUUMBSVLPSNCMUEKQCTESWREEKOYSSIWCTUAXYOTAPXPLWPNTCGOJBGFQHTDWXIZAYGFFNSXCSEYNCTSSPNTUJNYTGGWZGRWUUNEJUUQEAPYMEKQHUIDUXFPGUYTSMTFFSHNUOCZGMRUWEYTRGKMEEDCTVRECFBDJQCUSWVBPNLGOYLSKMTEFVJJTWWMFMWPNMEMTMHRSPXFSSKFFSTNUOCZGMDOEOYEEKCPJRGPMURSKHFRSEIUEVGOYCWXIZAYGOSAANYDOEOYJLWUNHAMEBFELXYVLWNOJNSIOFRWUCCESWKVIDGMUCGOCRUWGNMAAFFVNSIUDEKQHCEUCPFCMPVSUDGAVEMNYMAMVLFMAOYFNTQCUAFVFJNXKLNEIWCWODCCULWRIFTWGMUSWOVMATNYBUHTCOCWFYTNMGYTQMKBBNLGFBTWOJFTWGNTEJKNEEDCLDHWTVBUVGFBIJGYYIDGMVRDGMPLSWGJLAGOEEKJOFEKNYNOLRIVRWVUHEIWUURWGMUTJCDBNKGMBIDGMEEYGUOTDGGQEUJYOTVGGBRUJYS'"
      ]
     },
     "execution_count": 3,
     "metadata": {},
     "output_type": "execute_result"
    }
   ],
   "source": [
    "cipher_text"
   ]
  },
  {
   "cell_type": "markdown",
   "metadata": {},
   "source": [
    "## Strategy\n",
    "To break the Vignere cipher, we need to find sequences of more than 4 letters that are repeated. Then we measure how many characters there are between the repetitions, so we can compute the length of the key. Then we can extract all the monoalphabetic ciphers, and work on each one."
   ]
  },
  {
   "cell_type": "markdown",
   "metadata": {},
   "source": [
    "## Finding the length of the key\n",
    "### Figuring out repeated sequences\n",
    "\n"
   ]
  },
  {
   "cell_type": "code",
   "execution_count": 4,
   "metadata": {},
   "outputs": [
    {
     "name": "stdout",
     "output_type": "stream",
     "text": [
      "604\n"
     ]
    }
   ],
   "source": [
    "sequence_length = 10\n",
    "total_length = len(cipher_text)\n",
    "print(total_length)"
   ]
  },
  {
   "cell_type": "code",
   "execution_count": 5,
   "metadata": {},
   "outputs": [
    {
     "name": "stdout",
     "output_type": "stream",
     "text": [
      "KQOWEFVJPU\n"
     ]
    }
   ],
   "source": [
    "word1 = cipher_text[:sequence_length]\n",
    "print(word1)"
   ]
  },
  {
   "cell_type": "code",
   "execution_count": 6,
   "metadata": {},
   "outputs": [],
   "source": [
    "def check_length(sequence_length, cipher_text=cipher_text):\n",
    "    \"\"\"Check repetition of sequences of a given length in the cipher text\"\"\"\n",
    "    repeated = []\n",
    "    for i in range(1, total_length - 2 * sequence_length):\n",
    "        seq_to_test = cipher_text[i:i+sequence_length]\n",
    "        if (cipher_text.count(seq_to_test) > 1) & (seq_to_test not in repeated):\n",
    "            repeated.append(seq_to_test)\n",
    "    return repeated"
   ]
  },
  {
   "cell_type": "code",
   "execution_count": 7,
   "metadata": {},
   "outputs": [],
   "source": [
    "repetition = {}\n",
    "for seq_len in range(10, 3, -1):\n",
    "    repetition[seq_len] = check_length(seq_len)"
   ]
  },
  {
   "cell_type": "code",
   "execution_count": 8,
   "metadata": {},
   "outputs": [
    {
     "data": {
      "text/plain": [
       "{10: [],\n",
       " 9: [],\n",
       " 8: [],\n",
       " 7: ['WXIZAYG', 'NUOCZGM'],\n",
       " 6: ['WXIZAY', 'XIZAYG', 'NUOCZG', 'UOCZGM'],\n",
       " 5: ['WXIZA', 'XIZAY', 'IZAYG', 'NUOCZ', 'UOCZG', 'OCZGM', 'DOEOY'],\n",
       " 4: ['EFVJ',\n",
       "  'WXIZ',\n",
       "  'XIZA',\n",
       "  'IZAY',\n",
       "  'ZAYG',\n",
       "  'EKQH',\n",
       "  'NUOC',\n",
       "  'UOCZ',\n",
       "  'OCZG',\n",
       "  'CZGM',\n",
       "  'EEDC',\n",
       "  'DOEO',\n",
       "  'OEOY',\n",
       "  'IDGM',\n",
       "  'FTWG',\n",
       "  'WGMU']}"
      ]
     },
     "execution_count": 8,
     "metadata": {},
     "output_type": "execute_result"
    }
   ],
   "source": [
    "repetition"
   ]
  },
  {
   "cell_type": "markdown",
   "metadata": {},
   "source": [
    "We notice that some shorter words are subparts of longer words, we should remove them."
   ]
  },
  {
   "cell_type": "code",
   "execution_count": 9,
   "metadata": {},
   "outputs": [],
   "source": [
    "all_words = [word for list_of_words in repetition.values() for word in list_of_words]"
   ]
  },
  {
   "cell_type": "code",
   "execution_count": 10,
   "metadata": {},
   "outputs": [],
   "source": [
    "sub_words = [word for word1 in all_words for word in all_words if word in word1 and word != word1]"
   ]
  },
  {
   "cell_type": "code",
   "execution_count": 11,
   "metadata": {},
   "outputs": [],
   "source": [
    "unique_words = set(all_words) - set(sub_words)"
   ]
  },
  {
   "cell_type": "code",
   "execution_count": 12,
   "metadata": {},
   "outputs": [
    {
     "name": "stdout",
     "output_type": "stream",
     "text": [
      "{'EEDC', 'EFVJ', 'WXIZAYG', 'FTWG', 'IDGM', 'DOEOY', 'WGMU', 'NUOCZGM', 'EKQH'}\n"
     ]
    }
   ],
   "source": [
    "print(unique_words)"
   ]
  },
  {
   "cell_type": "markdown",
   "metadata": {},
   "source": [
    "Now we have the minimal list of repeated words, we have to find the distance between the repetition."
   ]
  },
  {
   "cell_type": "code",
   "execution_count": 13,
   "metadata": {},
   "outputs": [],
   "source": [
    "import re"
   ]
  },
  {
   "cell_type": "code",
   "execution_count": 14,
   "metadata": {},
   "outputs": [],
   "source": [
    "indices = [[m.start() for m in re.finditer(word, cipher_text)]for word in unique_words]"
   ]
  },
  {
   "cell_type": "code",
   "execution_count": 15,
   "metadata": {},
   "outputs": [
    {
     "data": {
      "text/plain": [
       "[[193, 493],\n",
       " [4, 224],\n",
       " [105, 295],\n",
       " [438, 483],\n",
       " [349, 514, 574],\n",
       " [263, 308],\n",
       " [440, 560],\n",
       " [176, 256],\n",
       " [154, 374]]"
      ]
     },
     "execution_count": 15,
     "metadata": {},
     "output_type": "execute_result"
    }
   ],
   "source": [
    "indices"
   ]
  },
  {
   "cell_type": "code",
   "execution_count": 16,
   "metadata": {},
   "outputs": [],
   "source": [
    "differences = []\n",
    "for line in indices:\n",
    "    iter_line = iter(line)\n",
    "    start = next(iter_line)\n",
    "    for i in iter_line:\n",
    "        differences.append(i - start)\n",
    "        start = i"
   ]
  },
  {
   "cell_type": "code",
   "execution_count": 17,
   "metadata": {},
   "outputs": [
    {
     "data": {
      "text/plain": [
       "[300, 220, 190, 45, 165, 60, 45, 120, 80, 220]"
      ]
     },
     "execution_count": 17,
     "metadata": {},
     "output_type": "execute_result"
    }
   ],
   "source": [
    "differences"
   ]
  },
  {
   "cell_type": "code",
   "execution_count": 18,
   "metadata": {},
   "outputs": [],
   "source": [
    "from math import gcd\n",
    "from functools import reduce"
   ]
  },
  {
   "cell_type": "code",
   "execution_count": 19,
   "metadata": {},
   "outputs": [
    {
     "data": {
      "text/plain": [
       "5"
      ]
     },
     "execution_count": 19,
     "metadata": {},
     "output_type": "execute_result"
    }
   ],
   "source": [
    "reduce(gcd, differences)"
   ]
  },
  {
   "cell_type": "markdown",
   "metadata": {},
   "source": [
    "So there we have it, the length of the Vignere key is 5."
   ]
  },
  {
   "cell_type": "markdown",
   "metadata": {},
   "source": [
    "## 5 monoaplhabetic ciphers\n",
    "We the have 5 monoalphabetic encrypted texts that we need to decipher. The ciphers are caesar shift ciphers, so we can reuse the code from the stage 2."
   ]
  },
  {
   "cell_type": "code",
   "execution_count": 20,
   "metadata": {},
   "outputs": [],
   "source": [
    "ciphers = [cipher_text[i::5] for i in range(5)]"
   ]
  },
  {
   "cell_type": "code",
   "execution_count": 21,
   "metadata": {},
   "outputs": [
    {
     "data": {
      "text/plain": [
       "['KFJKKWMWFWSNKSKIAAWGFWYSYSJGWJAKDGMHZWGDEJWLSFWWMSSTZEKGSSVWYAEWMLWSWSDGWASKUMDMMATFXIDWWWTHWMMLWWJDWVJDDSAKKLWIWJKDYDUVU',\n",
       " 'QVUGJUKRGUVCQWOWXPPOQXGXNPNWUUPQUUTNGEKCCQVGKVWPTPKNGOCPKEGXGNOUEXNIUWGOGFIQCPGNVOQVKWCRGONTFGKGOGKCTGGGGWGJNRVWGCGGGGJGJ',\n",
       " 'OJULIXJLHULMCRYCYXNJHIFCCNYZUUYHXYFUMYMTFCBOMJMNMXFUMYPMHIOIOYYNBYOOCKMCNFUHPVAYLYCFLCCIMVYCYYBFJNNLVFYMMGOOYIUUMDMMUGYGY',\n",
       " 'WPNMNFBFUMPUTESTOPTBTZFSTTTGNQMUFTFORTEVBUPYTJFMHFFODEJUFUYZSDJHFVJFCVURMVDCFSVMFFUJNWUFUMBOTTBBFTEDBBYVPJEFNVHUUBBEOQOBS',\n",
       " 'EUUEMQGNDBSEEESUTLCGDANESUGREEEIPSSCURERDSNLETMERSSCOERRRECAAOLAELNREICUANEECUEAMNANEOLTSAUCNQNTTEEHUIIRLLEEORERTNIETETR']"
      ]
     },
     "execution_count": 21,
     "metadata": {},
     "output_type": "execute_result"
    }
   ],
   "source": [
    "ciphers"
   ]
  },
  {
   "cell_type": "code",
   "execution_count": 22,
   "metadata": {},
   "outputs": [],
   "source": [
    "def shift_text(text, n):\n",
    "    \"\"\"Shift the text by n letters\"\"\"\n",
    "    letters = \"ABCDEFGHIJKLMNOPQRSTUVWXYZ\"\n",
    "    deciphered_text = \"\"\n",
    "    for letter in text:\n",
    "        if letter not in letters:\n",
    "            # spaces, punctuation\n",
    "            new_letter = letter\n",
    "        else:\n",
    "            indice = letters.index(letter)\n",
    "            new_ind = (indice + n) % 26\n",
    "            new_letter = letters[new_ind]\n",
    "        deciphered_text += new_letter\n",
    "    return deciphered_text"
   ]
  },
  {
   "cell_type": "markdown",
   "metadata": {},
   "source": [
    "Let also reuse the frequency analysis from stage 1, that did not work well, but could prove more useful here."
   ]
  },
  {
   "cell_type": "code",
   "execution_count": 23,
   "metadata": {},
   "outputs": [],
   "source": [
    "import altair as alt\n",
    "import pandas as pd\n",
    "from collections import Counter\n",
    "from io import StringIO"
   ]
  },
  {
   "cell_type": "code",
   "execution_count": 24,
   "metadata": {},
   "outputs": [],
   "source": [
    "def create_freq_df(text, name=\"freq\"):\n",
    "    \"\"\"Returns a dataframe with relative frequency of letters in the text\"\"\"\n",
    "    # Compute freqs from text\n",
    "    cipher_freq = sorted(Counter(text).items())\n",
    "    \n",
    "    # Get a dataframe with the whole alphabet\n",
    "    all_letters = pd.DataFrame({'letter': list(\"ABCDEFGHIJKLMNOPQRSTUVWXYZ\")})\n",
    "    freqs = pd.DataFrame.from_records(cipher_freq, columns=[\"letter\", name])\n",
    "    complete_freqs = all_letters.merge(freqs, how='left').fillna(0)\n",
    "    \n",
    "    # Normalize the frequencies\n",
    "    complete_freqs[name] = complete_freqs[name] / complete_freqs[name].sum()\n",
    "    return complete_freqs.set_index(\"letter\")"
   ]
  },
  {
   "cell_type": "code",
   "execution_count": 25,
   "metadata": {},
   "outputs": [
    {
     "data": {
      "text/html": [
       "<div>\n",
       "<style scoped>\n",
       "    .dataframe tbody tr th:only-of-type {\n",
       "        vertical-align: middle;\n",
       "    }\n",
       "\n",
       "    .dataframe tbody tr th {\n",
       "        vertical-align: top;\n",
       "    }\n",
       "\n",
       "    .dataframe thead th {\n",
       "        text-align: right;\n",
       "    }\n",
       "</style>\n",
       "<table border=\"1\" class=\"dataframe\">\n",
       "  <thead>\n",
       "    <tr style=\"text-align: right;\">\n",
       "      <th></th>\n",
       "      <th>freq_0</th>\n",
       "    </tr>\n",
       "    <tr>\n",
       "      <th>letter</th>\n",
       "      <th></th>\n",
       "    </tr>\n",
       "  </thead>\n",
       "  <tbody>\n",
       "    <tr>\n",
       "      <th>A</th>\n",
       "      <td>0.057851</td>\n",
       "    </tr>\n",
       "    <tr>\n",
       "      <th>B</th>\n",
       "      <td>0.000000</td>\n",
       "    </tr>\n",
       "    <tr>\n",
       "      <th>C</th>\n",
       "      <td>0.000000</td>\n",
       "    </tr>\n",
       "    <tr>\n",
       "      <th>D</th>\n",
       "      <td>0.082645</td>\n",
       "    </tr>\n",
       "    <tr>\n",
       "      <th>E</th>\n",
       "      <td>0.024793</td>\n",
       "    </tr>\n",
       "  </tbody>\n",
       "</table>\n",
       "</div>"
      ],
      "text/plain": [
       "          freq_0\n",
       "letter          \n",
       "A       0.057851\n",
       "B       0.000000\n",
       "C       0.000000\n",
       "D       0.082645\n",
       "E       0.024793"
      ]
     },
     "execution_count": 25,
     "metadata": {},
     "output_type": "execute_result"
    }
   ],
   "source": [
    "create_freq_df(ciphers[0], \"freq_0\").head()"
   ]
  },
  {
   "cell_type": "code",
   "execution_count": 26,
   "metadata": {},
   "outputs": [],
   "source": [
    "english_freq = pd.read_fwf(StringIO(\"\"\"LET COUNT\n",
    "E   445.2\n",
    "T   330.5\n",
    "A   286.5\n",
    "O   272.3\n",
    "I   269.7\n",
    "N   257.8\n",
    "S   232.1\n",
    "R   223.8\n",
    "H   180.1\n",
    "L   145.0\n",
    "D   136.0\n",
    "C   119.2\n",
    "U   97.3\n",
    "M   89.5\n",
    "F   85.6\n",
    "P   76.1\n",
    "G   66.6\n",
    "W   59.7\n",
    "Y   59.3\n",
    "B   52.9\n",
    "V   37.5\n",
    "K   19.3\n",
    "X   8.4\n",
    "J   5.7\n",
    "Q   4.3\n",
    "Z   3.2\"\"\"), names=[\"letter\", \"eng_freq\"], header=0)"
   ]
  },
  {
   "cell_type": "code",
   "execution_count": 27,
   "metadata": {},
   "outputs": [],
   "source": [
    "english_freq = english_freq.sort_values(\"letter\").set_index(\"letter\")\n",
    "english_freq[\"eng_freq\"] = english_freq.eng_freq / english_freq.eng_freq.sum()"
   ]
  },
  {
   "cell_type": "code",
   "execution_count": 28,
   "metadata": {},
   "outputs": [
    {
     "data": {
      "text/html": [
       "<div>\n",
       "<style scoped>\n",
       "    .dataframe tbody tr th:only-of-type {\n",
       "        vertical-align: middle;\n",
       "    }\n",
       "\n",
       "    .dataframe tbody tr th {\n",
       "        vertical-align: top;\n",
       "    }\n",
       "\n",
       "    .dataframe thead th {\n",
       "        text-align: right;\n",
       "    }\n",
       "</style>\n",
       "<table border=\"1\" class=\"dataframe\">\n",
       "  <thead>\n",
       "    <tr style=\"text-align: right;\">\n",
       "      <th></th>\n",
       "      <th>eng_freq</th>\n",
       "    </tr>\n",
       "    <tr>\n",
       "      <th>letter</th>\n",
       "      <th></th>\n",
       "    </tr>\n",
       "  </thead>\n",
       "  <tbody>\n",
       "    <tr>\n",
       "      <th>A</th>\n",
       "      <td>0.080396</td>\n",
       "    </tr>\n",
       "    <tr>\n",
       "      <th>B</th>\n",
       "      <td>0.014845</td>\n",
       "    </tr>\n",
       "    <tr>\n",
       "      <th>C</th>\n",
       "      <td>0.033449</td>\n",
       "    </tr>\n",
       "    <tr>\n",
       "      <th>D</th>\n",
       "      <td>0.038164</td>\n",
       "    </tr>\n",
       "    <tr>\n",
       "      <th>E</th>\n",
       "      <td>0.124930</td>\n",
       "    </tr>\n",
       "  </tbody>\n",
       "</table>\n",
       "</div>"
      ],
      "text/plain": [
       "        eng_freq\n",
       "letter          \n",
       "A       0.080396\n",
       "B       0.014845\n",
       "C       0.033449\n",
       "D       0.038164\n",
       "E       0.124930"
      ]
     },
     "execution_count": 28,
     "metadata": {},
     "output_type": "execute_result"
    }
   ],
   "source": [
    "english_freq.head()"
   ]
  },
  {
   "cell_type": "code",
   "execution_count": 29,
   "metadata": {},
   "outputs": [],
   "source": [
    "all_freqs = pd.concat((*map(create_freq_df, \n",
    "                            ciphers, \n",
    "                            [\"freq_0\", \"freq_1\", \"freq_2\", \"freq_3\", \"freq_4\"]), \n",
    "                       english_freq), \n",
    "                      axis=1)"
   ]
  },
  {
   "cell_type": "code",
   "execution_count": 30,
   "metadata": {},
   "outputs": [],
   "source": [
    "all_freqs = all_freqs.stack().reset_index().rename(columns={\"level_1\":\"text\", 0:\"freq\"})"
   ]
  },
  {
   "cell_type": "code",
   "execution_count": 31,
   "metadata": {},
   "outputs": [
    {
     "data": {
      "text/html": [
       "<div>\n",
       "<style scoped>\n",
       "    .dataframe tbody tr th:only-of-type {\n",
       "        vertical-align: middle;\n",
       "    }\n",
       "\n",
       "    .dataframe tbody tr th {\n",
       "        vertical-align: top;\n",
       "    }\n",
       "\n",
       "    .dataframe thead th {\n",
       "        text-align: right;\n",
       "    }\n",
       "</style>\n",
       "<table border=\"1\" class=\"dataframe\">\n",
       "  <thead>\n",
       "    <tr style=\"text-align: right;\">\n",
       "      <th></th>\n",
       "      <th>letter</th>\n",
       "      <th>text</th>\n",
       "      <th>freq</th>\n",
       "    </tr>\n",
       "  </thead>\n",
       "  <tbody>\n",
       "    <tr>\n",
       "      <th>0</th>\n",
       "      <td>A</td>\n",
       "      <td>freq_0</td>\n",
       "      <td>0.057851</td>\n",
       "    </tr>\n",
       "    <tr>\n",
       "      <th>1</th>\n",
       "      <td>A</td>\n",
       "      <td>freq_1</td>\n",
       "      <td>0.000000</td>\n",
       "    </tr>\n",
       "    <tr>\n",
       "      <th>2</th>\n",
       "      <td>A</td>\n",
       "      <td>freq_2</td>\n",
       "      <td>0.008264</td>\n",
       "    </tr>\n",
       "    <tr>\n",
       "      <th>3</th>\n",
       "      <td>A</td>\n",
       "      <td>freq_3</td>\n",
       "      <td>0.000000</td>\n",
       "    </tr>\n",
       "    <tr>\n",
       "      <th>4</th>\n",
       "      <td>A</td>\n",
       "      <td>freq_4</td>\n",
       "      <td>0.066667</td>\n",
       "    </tr>\n",
       "  </tbody>\n",
       "</table>\n",
       "</div>"
      ],
      "text/plain": [
       "  letter    text      freq\n",
       "0      A  freq_0  0.057851\n",
       "1      A  freq_1  0.000000\n",
       "2      A  freq_2  0.008264\n",
       "3      A  freq_3  0.000000\n",
       "4      A  freq_4  0.066667"
      ]
     },
     "execution_count": 31,
     "metadata": {},
     "output_type": "execute_result"
    }
   ],
   "source": [
    "all_freqs.head()"
   ]
  },
  {
   "cell_type": "code",
   "execution_count": 32,
   "metadata": {},
   "outputs": [
    {
     "data": {
      "application/vnd.vegalite.v2+json": {
       "$schema": "https://vega.github.io/schema/vega-lite/v2.4.3.json",
       "config": {
        "view": {
         "height": 300,
         "width": 400
        }
       },
       "data": {
        "values": [
         {
          "freq": 0.05785123966942149,
          "letter": "A",
          "text": "freq_0"
         },
         {
          "freq": 0,
          "letter": "A",
          "text": "freq_1"
         },
         {
          "freq": 0.008264462809917356,
          "letter": "A",
          "text": "freq_2"
         },
         {
          "freq": 0,
          "letter": "A",
          "text": "freq_3"
         },
         {
          "freq": 0.06666666666666667,
          "letter": "A",
          "text": "freq_4"
         },
         {
          "freq": 0.08039622853294422,
          "letter": "A",
          "text": "eng_freq"
         },
         {
          "freq": 0,
          "letter": "B",
          "text": "freq_0"
         },
         {
          "freq": 0,
          "letter": "B",
          "text": "freq_1"
         },
         {
          "freq": 0.024793388429752067,
          "letter": "B",
          "text": "freq_2"
         },
         {
          "freq": 0.09090909090909091,
          "letter": "B",
          "text": "freq_3"
         },
         {
          "freq": 0.008333333333333333,
          "letter": "B",
          "text": "freq_4"
         },
         {
          "freq": 0.014844539229992142,
          "letter": "B",
          "text": "eng_freq"
         },
         {
          "freq": 0,
          "letter": "C",
          "text": "freq_0"
         },
         {
          "freq": 0.06611570247933884,
          "letter": "C",
          "text": "freq_1"
         },
         {
          "freq": 0.09090909090909091,
          "letter": "C",
          "text": "freq_2"
         },
         {
          "freq": 0.01652892561983471,
          "letter": "C",
          "text": "freq_3"
         },
         {
          "freq": 0.058333333333333334,
          "letter": "C",
          "text": "freq_4"
         },
         {
          "freq": 0.033449320911437874,
          "letter": "C",
          "text": "eng_freq"
         },
         {
          "freq": 0.08264462809917356,
          "letter": "D",
          "text": "freq_0"
         },
         {
          "freq": 0,
          "letter": "D",
          "text": "freq_1"
         },
         {
          "freq": 0.008264462809917356,
          "letter": "D",
          "text": "freq_2"
         },
         {
          "freq": 0.03305785123966942,
          "letter": "D",
          "text": "freq_3"
         },
         {
          "freq": 0.025,
          "letter": "D",
          "text": "freq_4"
         },
         {
          "freq": 0.038163654731170726,
          "letter": "D",
          "text": "eng_freq"
         },
         {
          "freq": 0.024793388429752067,
          "letter": "E",
          "text": "freq_0"
         },
         {
          "freq": 0.024793388429752067,
          "letter": "E",
          "text": "freq_1"
         },
         {
          "freq": 0,
          "letter": "E",
          "text": "freq_2"
         },
         {
          "freq": 0.049586776859504134,
          "letter": "E",
          "text": "freq_3"
         },
         {
          "freq": 0.225,
          "letter": "E",
          "text": "freq_4"
         },
         {
          "freq": 0.12492984622292064,
          "letter": "E",
          "text": "eng_freq"
         },
         {
          "freq": 0.04132231404958678,
          "letter": "F",
          "text": "freq_0"
         },
         {
          "freq": 0.01652892561983471,
          "letter": "F",
          "text": "freq_1"
         },
         {
          "freq": 0.06611570247933884,
          "letter": "F",
          "text": "freq_2"
         },
         {
          "freq": 0.14049586776859505,
          "letter": "F",
          "text": "freq_3"
         },
         {
          "freq": 0,
          "letter": "F",
          "text": "freq_4"
         },
         {
          "freq": 0.024020653271972163,
          "letter": "F",
          "text": "eng_freq"
         },
         {
          "freq": 0.049586776859504134,
          "letter": "G",
          "text": "freq_0"
         },
         {
          "freq": 0.21487603305785125,
          "letter": "G",
          "text": "freq_1"
         },
         {
          "freq": 0.024793388429752067,
          "letter": "G",
          "text": "freq_2"
         },
         {
          "freq": 0.008264462809917356,
          "letter": "G",
          "text": "freq_3"
         },
         {
          "freq": 0.025,
          "letter": "G",
          "text": "freq_4"
         },
         {
          "freq": 0.018688966213940957,
          "letter": "G",
          "text": "eng_freq"
         },
         {
          "freq": 0.01652892561983471,
          "letter": "H",
          "text": "freq_0"
         },
         {
          "freq": 0,
          "letter": "H",
          "text": "freq_1"
         },
         {
          "freq": 0.04132231404958678,
          "letter": "H",
          "text": "freq_2"
         },
         {
          "freq": 0.024793388429752067,
          "letter": "H",
          "text": "freq_3"
         },
         {
          "freq": 0.008333333333333333,
          "letter": "H",
          "text": "freq_4"
         },
         {
          "freq": 0.05053878100796947,
          "letter": "H",
          "text": "eng_freq"
         },
         {
          "freq": 0.024793388429752067,
          "letter": "I",
          "text": "freq_0"
         },
         {
          "freq": 0.01652892561983471,
          "letter": "I",
          "text": "freq_1"
         },
         {
          "freq": 0.049586776859504134,
          "letter": "I",
          "text": "freq_2"
         },
         {
          "freq": 0,
          "letter": "I",
          "text": "freq_3"
         },
         {
          "freq": 0.041666666666666664,
          "letter": "I",
          "text": "freq_4"
         },
         {
          "freq": 0.07568189471321136,
          "letter": "I",
          "text": "eng_freq"
         },
         {
          "freq": 0.05785123966942149,
          "letter": "J",
          "text": "freq_0"
         },
         {
          "freq": 0.03305785123966942,
          "letter": "J",
          "text": "freq_1"
         },
         {
          "freq": 0.04132231404958678,
          "letter": "J",
          "text": "freq_2"
         },
         {
          "freq": 0.049586776859504134,
          "letter": "J",
          "text": "freq_3"
         },
         {
          "freq": 0,
          "letter": "J",
          "text": "freq_4"
         },
         {
          "freq": 0.0015995061174093614,
          "letter": "J",
          "text": "eng_freq"
         },
         {
          "freq": 0.09090909090909091,
          "letter": "K",
          "text": "freq_0"
         },
         {
          "freq": 0.06611570247933884,
          "letter": "K",
          "text": "freq_1"
         },
         {
          "freq": 0.008264462809917356,
          "letter": "K",
          "text": "freq_2"
         },
         {
          "freq": 0,
          "letter": "K",
          "text": "freq_3"
         },
         {
          "freq": 0,
          "letter": "K",
          "text": "freq_4"
         },
         {
          "freq": 0.005415871590526434,
          "letter": "K",
          "text": "eng_freq"
         },
         {
          "freq": 0.03305785123966942,
          "letter": "L",
          "text": "freq_0"
         },
         {
          "freq": 0,
          "letter": "L",
          "text": "freq_1"
         },
         {
          "freq": 0.049586776859504134,
          "letter": "L",
          "text": "freq_2"
         },
         {
          "freq": 0,
          "letter": "L",
          "text": "freq_3"
         },
         {
          "freq": 0.058333333333333334,
          "letter": "L",
          "text": "freq_4"
         },
         {
          "freq": 0.04068919070602761,
          "letter": "L",
          "text": "eng_freq"
         },
         {
          "freq": 0.0743801652892562,
          "letter": "M",
          "text": "freq_0"
         },
         {
          "freq": 0,
          "letter": "M",
          "text": "freq_1"
         },
         {
          "freq": 0.12396694214876033,
          "letter": "M",
          "text": "freq_2"
         },
         {
          "freq": 0.05785123966942149,
          "letter": "M",
          "text": "freq_3"
         },
         {
          "freq": 0.025,
          "letter": "M",
          "text": "freq_4"
         },
         {
          "freq": 0.025115052194410147,
          "letter": "M",
          "text": "eng_freq"
         },
         {
          "freq": 0.008264462809917356,
          "letter": "N",
          "text": "freq_0"
         },
         {
          "freq": 0.0743801652892562,
          "letter": "N",
          "text": "freq_1"
         },
         {
          "freq": 0.05785123966942149,
          "letter": "N",
          "text": "freq_2"
         },
         {
          "freq": 0.04132231404958678,
          "letter": "N",
          "text": "freq_3"
         },
         {
          "freq": 0.08333333333333333,
          "letter": "N",
          "text": "freq_4"
         },
         {
          "freq": 0.07234257492423393,
          "letter": "N",
          "text": "eng_freq"
         },
         {
          "freq": 0,
          "letter": "O",
          "text": "freq_0"
         },
         {
          "freq": 0.06611570247933884,
          "letter": "O",
          "text": "freq_1"
         },
         {
          "freq": 0.06611570247933884,
          "letter": "O",
          "text": "freq_2"
         },
         {
          "freq": 0.049586776859504134,
          "letter": "O",
          "text": "freq_3"
         },
         {
          "freq": 0.03333333333333333,
          "letter": "O",
          "text": "freq_4"
         },
         {
          "freq": 0.07641149399483668,
          "letter": "O",
          "text": "eng_freq"
         },
         {
          "freq": 0,
          "letter": "P",
          "text": "freq_0"
         },
         {
          "freq": 0.06611570247933884,
          "letter": "P",
          "text": "freq_1"
         },
         {
          "freq": 0.01652892561983471,
          "letter": "P",
          "text": "freq_2"
         },
         {
          "freq": 0.04132231404958678,
          "letter": "P",
          "text": "freq_3"
         },
         {
          "freq": 0.008333333333333333,
          "letter": "P",
          "text": "freq_4"
         },
         {
          "freq": 0.02135480974295656,
          "letter": "P",
          "text": "eng_freq"
         },
         {
          "freq": 0,
          "letter": "Q",
          "text": "freq_0"
         },
         {
          "freq": 0.05785123966942149,
          "letter": "Q",
          "text": "freq_1"
         },
         {
          "freq": 0,
          "letter": "Q",
          "text": "freq_2"
         },
         {
          "freq": 0.01652892561983471,
          "letter": "Q",
          "text": "freq_3"
         },
         {
          "freq": 0.016666666666666666,
          "letter": "Q",
          "text": "freq_4"
         },
         {
          "freq": 0.0012066449657649567,
          "letter": "Q",
          "text": "eng_freq"
         },
         {
          "freq": 0,
          "letter": "R",
          "text": "freq_0"
         },
         {
          "freq": 0.024793388429752067,
          "letter": "R",
          "text": "freq_1"
         },
         {
          "freq": 0.008264462809917356,
          "letter": "R",
          "text": "freq_2"
         },
         {
          "freq": 0.01652892561983471,
          "letter": "R",
          "text": "freq_3"
         },
         {
          "freq": 0.1,
          "letter": "R",
          "text": "freq_4"
         },
         {
          "freq": 0.06280166124144125,
          "letter": "R",
          "text": "eng_freq"
         },
         {
          "freq": 0.10743801652892562,
          "letter": "S",
          "text": "freq_0"
         },
         {
          "freq": 0,
          "letter": "S",
          "text": "freq_1"
         },
         {
          "freq": 0,
          "letter": "S",
          "text": "freq_2"
         },
         {
          "freq": 0.04132231404958678,
          "letter": "S",
          "text": "freq_3"
         },
         {
          "freq": 0.075,
          "letter": "S",
          "text": "freq_4"
         },
         {
          "freq": 0.06513076664047593,
          "letter": "S",
          "text": "eng_freq"
         },
         {
          "freq": 0.024793388429752067,
          "letter": "T",
          "text": "freq_0"
         },
         {
          "freq": 0.03305785123966942,
          "letter": "T",
          "text": "freq_1"
         },
         {
          "freq": 0.008264462809917356,
          "letter": "T",
          "text": "freq_2"
         },
         {
          "freq": 0.10743801652892562,
          "letter": "T",
          "text": "freq_3"
         },
         {
          "freq": 0.06666666666666667,
          "letter": "T",
          "text": "freq_4"
         },
         {
          "freq": 0.09274329329891122,
          "letter": "T",
          "text": "eng_freq"
         },
         {
          "freq": 0.024793388429752067,
          "letter": "U",
          "text": "freq_0"
         },
         {
          "freq": 0.0743801652892562,
          "letter": "U",
          "text": "freq_1"
         },
         {
          "freq": 0.08264462809917356,
          "letter": "U",
          "text": "freq_2"
         },
         {
          "freq": 0.09917355371900827,
          "letter": "U",
          "text": "freq_3"
         },
         {
          "freq": 0.075,
          "letter": "U",
          "text": "freq_4"
         },
         {
          "freq": 0.027303850039286114,
          "letter": "U",
          "text": "eng_freq"
         },
         {
          "freq": 0.024793388429752067,
          "letter": "V",
          "text": "freq_0"
         },
         {
          "freq": 0.05785123966942149,
          "letter": "V",
          "text": "freq_1"
         },
         {
          "freq": 0.024793388429752067,
          "letter": "V",
          "text": "freq_2"
         },
         {
          "freq": 0.05785123966942149,
          "letter": "V",
          "text": "freq_3"
         },
         {
          "freq": 0,
          "letter": "V",
          "text": "freq_4"
         },
         {
          "freq": 0.010523066561903693,
          "letter": "V",
          "text": "eng_freq"
         },
         {
          "freq": 0.19834710743801653,
          "letter": "W",
          "text": "freq_0"
         },
         {
          "freq": 0.06611570247933884,
          "letter": "W",
          "text": "freq_1"
         },
         {
          "freq": 0,
          "letter": "W",
          "text": "freq_2"
         },
         {
          "freq": 0.01652892561983471,
          "letter": "W",
          "text": "freq_3"
         },
         {
          "freq": 0,
          "letter": "W",
          "text": "freq_4"
         },
         {
          "freq": 0.01675272196655068,
          "letter": "W",
          "text": "eng_freq"
         },
         {
          "freq": 0.008264462809917356,
          "letter": "X",
          "text": "freq_0"
         },
         {
          "freq": 0.04132231404958678,
          "letter": "X",
          "text": "freq_1"
         },
         {
          "freq": 0.03305785123966942,
          "letter": "X",
          "text": "freq_2"
         },
         {
          "freq": 0,
          "letter": "X",
          "text": "freq_3"
         },
         {
          "freq": 0,
          "letter": "X",
          "text": "freq_4"
         },
         {
          "freq": 0.0023571669098664274,
          "letter": "X",
          "text": "eng_freq"
         },
         {
          "freq": 0.03305785123966942,
          "letter": "Y",
          "text": "freq_0"
         },
         {
          "freq": 0,
          "letter": "Y",
          "text": "freq_1"
         },
         {
          "freq": 0.15702479338842976,
          "letter": "Y",
          "text": "freq_2"
         },
         {
          "freq": 0.024793388429752067,
          "letter": "Y",
          "text": "freq_3"
         },
         {
          "freq": 0,
          "letter": "Y",
          "text": "freq_4"
         },
         {
          "freq": 0.016640475923223708,
          "letter": "Y",
          "text": "eng_freq"
         },
         {
          "freq": 0.01652892561983471,
          "letter": "Z",
          "text": "freq_0"
         },
         {
          "freq": 0,
          "letter": "Z",
          "text": "freq_1"
         },
         {
          "freq": 0.008264462809917356,
          "letter": "Z",
          "text": "freq_2"
         },
         {
          "freq": 0.01652892561983471,
          "letter": "Z",
          "text": "freq_3"
         },
         {
          "freq": 0,
          "letter": "Z",
          "text": "freq_4"
         },
         {
          "freq": 0.0008979683466157818,
          "letter": "Z",
          "text": "eng_freq"
         }
        ]
       },
       "encoding": {
        "row": {
         "field": "text",
         "header": {
          "title": null
         },
         "type": "nominal"
        },
        "tooltip": {
         "field": "letter",
         "type": "ordinal"
        },
        "x": {
         "axis": {
          "labelAngle": 0
         },
         "field": "letter",
         "type": "ordinal"
        },
        "y": {
         "axis": {
          "title": null
         },
         "field": "freq",
         "type": "quantitative"
        }
       },
       "height": 80,
       "mark": "bar",
       "width": 500
      },
      "image/png": "[encoded data removed]",
      "text/plain": [
       "<VegaLite 2 object>\n",
       "\n",
       "If you see this message, it means the renderer has not been properly enabled\n",
       "for the frontend that you are using. For more information, see\n",
       "https://altair-viz.github.io/user_guide/troubleshooting.html\n"
      ]
     },
     "execution_count": 32,
     "metadata": {},
     "output_type": "execute_result"
    }
   ],
   "source": [
    "alt.Chart(all_freqs).mark_bar().encode(\n",
    "    x=alt.X(\"letter:O\", axis=alt.Axis(labelAngle=0)),\n",
    "    y=alt.Y(\"freq:Q\", axis=alt.Axis(title=None)),\n",
    "    row=alt.Row(\"text:N\", header=alt.Header(title=None)),\n",
    "    tooltip=\"letter:O\"\n",
    ").properties(\n",
    "    height=80,\n",
    "    width=500\n",
    ")"
   ]
  },
  {
   "cell_type": "markdown",
   "metadata": {},
   "source": [
    "Looking at the patterns, it seems like the first text is shifted with the letter **\"S\"** corresponding to **\"A\"**. We can see that by the 2 spikes separated by 3 lower values, and some other moderately high values a bit later.\n",
    "Following the same approach, I find the letters __C, U, B and A__ , which gives **SCUBA** for the key.\n",
    "\n",
    "## Deciphering the whole text\n",
    "\n",
    "Now, we can decipher the message given the key."
   ]
  },
  {
   "cell_type": "code",
   "execution_count": 33,
   "metadata": {},
   "outputs": [],
   "source": [
    "from itertools import zip_longest, chain"
   ]
  },
  {
   "cell_type": "code",
   "execution_count": 34,
   "metadata": {},
   "outputs": [],
   "source": [
    "def vignere(text, key):\n",
    "    key_length = len(key)\n",
    "    # Split the text\n",
    "    ciphers = [text[i::key_length] for i in range(key_length)]\n",
    "\n",
    "    # Get the numerical values of the keys\n",
    "    # The -1 is because we want to go back to the english letter from the key\n",
    "    key_values = [\"ABCDEFGHIJKLMNOPQRSTUVWXYZ\".index(letter)*(-1) for letter in key]\n",
    "    \n",
    "    # Apply the shift for each text\n",
    "    deciphered = map(shift_text, ciphers, key_values)\n",
    "\n",
    "    # Zip to reconstruct the text in the correct order\n",
    "    deciphered = zip_longest(*deciphered, fillvalue=\"\")\n",
    "\n",
    "    # Flatten the iterable and return a string\n",
    "    return \"\".join(chain.from_iterable(deciphered))"
   ]
  },
  {
   "cell_type": "code",
   "execution_count": 35,
   "metadata": {},
   "outputs": [
    {
     "data": {
      "text/plain": [
       "'SOUVENTPOURSAMUSERLESHOMMESDEQUIPAGEPRENNENTDESALBATROSVASTESOISEAUXDESMERSQUISUIVENTINDOLENTSCOMPAGNONSDEVOYAGELENAVIREGLISSANTSURLESGOUFFRESAMERSAPEINELESONTILSDEPOSESSURLESPLANCHESQUECESROISDELAZURMALADROITSETHONTEUXLAISSENTPITEUSEMENTLEURSGRANDESAILESBLANCHESCOMMEDESAVIRONSTRAINERACOTEDEUXCEVOYAGEURAILECOMMEILESTGAUCHEETVEULELUINAGUERESIBEAUQUILESTCOMIQUEETLAIDLUNAGACESONBECAVECUNBRULEGUEULELAUTREMIMEENBOITANTLINFIRMEQUIVOLAITLEPOETEESTSEMBLABLEAUPRINCEDESNUEESQUIHANTELATEMPETEETSERITDELARCHERBAUDELAIREEXILESURLESOLAUMILIEUDESHUEESLEMOTPOURETAGEQUATREESTTRAJANSESAILESDEGEANTLEMPECHENTDEMARCHER'"
      ]
     },
     "execution_count": 35,
     "metadata": {},
     "output_type": "execute_result"
    }
   ],
   "source": [
    "vignere(cipher_text, \"SCUBA\")"
   ]
  },
  {
   "cell_type": "markdown",
   "metadata": {},
   "source": [
    "Victory! The text is in french, we were lucky that the letter distribution is roughly the same as english.\n",
    "\n",
    "The text is [L'Albatros](https://fr.wikipedia.org/wiki/L%27Albatros_(po%C3%A8me)) a poem by Charles Baudelaire."
   ]
  }
 ],
 "metadata": {
  "kernelspec": {
   "display_name": "Python 3",
   "language": "python",
   "name": "python3"
  },
  "language_info": {
   "codemirror_mode": {
    "name": "ipython",
    "version": 3
   },
   "file_extension": ".py",
   "mimetype": "text/x-python",
   "name": "python",
   "nbconvert_exporter": "python",
   "pygments_lexer": "ipython3",
   "version": "3.6.6"
  }
 },
 "nbformat": 4,
 "nbformat_minor": 2
}
