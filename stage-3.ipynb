{
 "cells": [
  {
   "cell_type": "markdown",
   "metadata": {},
   "source": [
    "# Cipher Challenge\n",
    "From [Simon Singh's The Code Book](https://simonsingh.net/cryptography/cipher-challenge/the-ciphertexts/)\n",
    "## Stage 3\n",
    "Monoalphabetic Cipher with Homophones"
   ]
  },
  {
   "cell_type": "code",
   "execution_count": 1,
   "metadata": {},
   "outputs": [],
   "source": [
    "cipher_text = \"\"\"IXDVMUFXLFEEFXSOQXYQVXSQTUIXWF*FMXYQVFJ*FXEFQUQX\n",
    "JFPTUFXMX*ISSFLQTUQXMXRPQEUMXUMTUIXYFSSFI*MXKFJ\n",
    "F*FMXLQXTIEUVFXEQTEFXSOQXLQ*XVFWMTQTUQXTITXKIJ*F\n",
    "MUQXTQJMVX*QEYQVFQTHMXLFVQUVIXM*XEI*XLQ*XWITLIXE\n",
    "QTHGXJQTUQXSITEFLQVGUQX*GXKIEUVGXEQWQTHGXDGUFXTIT\n",
    "XDIEUQXGXKFKQVXSIWQXAVPUFXWGXYQVXEQJPFVXKFVUPUQXQX\n",
    "SGTIESQTHGX*FXWFQFXSIWYGJTFXDQSFIXEFXGJPUFXSITXRPQEUG\n",
    "XIVGHFITXYFSSFI*CXC*XSCWWFTIXSOQXCXYQTCXYIESFCX*FXCKV\n",
    "QFXVFUQTPUFXQXKI*UCXTIEUVCXYIYYCXTQ*XWCUUFTIXLQFXVQW\n",
    "FXDCSQWWIXC*FXC*XDI**QXKI*IXEQWYVQXCSRPFEUCTLIXLC*X*C\n",
    "UIXWCTSFTIXUPUUQX*QXEUQ**QXJFCXLQX*C*UVIXYI*IXKQLQCX*CX\n",
    "TIUUQXQX*XTIEUVIXUCTUIXACEEIXSOQXTITXEPVJQCXDPIVXLQ*X\n",
    "WCVFTXEPI*IXSFTRPQXKI*UQXVCSSQEIXQXUCTUIXSCEEIX*IX*PWQ\n",
    "XQVZXLFXEIUUIXLZX*ZX*PTZXYIFXSOQXTUVZUFXQVZKZWXTQX*Z*\n",
    "UIXYZEEIRPZTLIXTZYYZVKQXPTZXWITUZJTZXAVPTZXYQVX*ZXLFEUZT\n",
    "HZXQXYZVKQWFXZ*UZXUZTUIXRPZTUIXKQLPUZXTITXZKQZ\n",
    "XZ*SPTZXTIFXSFXZ**QJVNWWIXQXUIEUIXUIVTIXFTXYFNTUIXS\n",
    "OQXLQX*NXTIKNXUQVVNXPTXUPVAIXTNSRPQXQXYQVSIEE\n",
    "QXLQ*X*QJTIXF*XYVFWIXSNTUIXUVQXKI*UQXF*XDQXJFVBVXSI\n",
    "TXUPUUQX*BSRPQXBX*BXRPBVUBX*QKBVX*BXYIYYBXFTXEPEIXQX\n",
    "*BXYVIVBXFVQXFTXJFPXSIWB*UVPFXYFBSRPQFTDFTXSOQX*XWBVXDP\n",
    "XEIYVBXTIFXVFSOFPEIXX*BXYBVI*BXFTXSILFSQXQXQRPBUIV\"\"\""
   ]
  },
  {
   "cell_type": "markdown",
   "metadata": {},
   "source": [
    "Let's remove the line breaks, as I do not think they are meaningful."
   ]
  },
  {
   "cell_type": "code",
   "execution_count": 2,
   "metadata": {},
   "outputs": [],
   "source": [
    "cipher_text = \"\".join(cipher_text.split(\"\\n\"))"
   ]
  },
  {
   "cell_type": "code",
   "execution_count": 3,
   "metadata": {},
   "outputs": [
    {
     "data": {
      "text/plain": [
       "'IXDVMUFXLFEEFXSOQXYQVXSQTUIXWF*FMXYQVFJ*FXEFQUQXJFPTUFXMX*ISSFLQTUQXMXRPQEUMXUMTUIXYFSSFI*MXKFJF*FMXLQXTIEUVFXEQTEFXSOQXLQ*XVFWMTQTUQXTITXKIJ*FMUQXTQJMVX*QEYQVFQTHMXLFVQUVIXM*XEI*XLQ*XWITLIXEQTHGXJQTUQXSITEFLQVGUQX*GXKIEUVGXEQWQTHGXDGUFXTITXDIEUQXGXKFKQVXSIWQXAVPUFXWGXYQVXEQJPFVXKFVUPUQXQXSGTIESQTHGX*FXWFQFXSIWYGJTFXDQSFIXEFXGJPUFXSITXRPQEUGXIVGHFITXYFSSFI*CXC*XSCWWFTIXSOQXCXYQTCXYIESFCX*FXCKVQFXVFUQTPUFXQXKI*UCXTIEUVCXYIYYCXTQ*XWCUUFTIXLQFXVQWFXDCSQWWIXC*FXC*XDI**QXKI*IXEQWYVQXCSRPFEUCTLIXLC*X*CUIXWCTSFTIXUPUUQX*QXEUQ**QXJFCXLQX*C*UVIXYI*IXKQLQCX*CXTIUUQXQX*XTIEUVIXUCTUIXACEEIXSOQXTITXEPVJQCXDPIVXLQ*XWCVFTXEPI*IXSFTRPQXKI*UQXVCSSQEIXQXUCTUIXSCEEIX*IX*PWQXQVZXLFXEIUUIXLZX*ZX*PTZXYIFXSOQXTUVZUFXQVZKZWXTQX*Z*UIXYZEEIRPZTLIXTZYYZVKQXPTZXWITUZJTZXAVPTZXYQVX*ZXLFEUZTHZXQXYZVKQWFXZ*UZXUZTUIXRPZTUIXKQLPUZXTITXZKQZXZ*SPTZXTIFXSFXZ**QJVNWWIXQXUIEUIXUIVTIXFTXYFNTUIXSOQXLQX*NXTIKNXUQVVNXPTXUPVAIXTNSRPQXQXYQVSIEEQXLQ*X*QJTIXF*XYVFWIXSNTUIXUVQXKI*UQXF*XDQXJFVBVXSITXUPUUQX*BSRPQXBX*BXRPBVUBX*QKBVX*BXYIYYBXFTXEPEIXQX*BXYVIVBXFVQXFTXJFPXSIWB*UVPFXYFBSRPQFTDFTXSOQX*XWBVXDPXEIYVBXTIFXVFSOFPEIXX*BXYBVI*BXFTXSILFSQXQXQRPBUIV'"
      ]
     },
     "execution_count": 3,
     "metadata": {},
     "output_type": "execute_result"
    }
   ],
   "source": [
    "cipher_text"
   ]
  },
  {
   "cell_type": "markdown",
   "metadata": {},
   "source": [
    "We have a special character, __\\*__, which separates sequences. Those sequencies are too long for them to be words, so \\* must be part of the dictionnary."
   ]
  },
  {
   "cell_type": "code",
   "execution_count": 6,
   "metadata": {},
   "outputs": [],
   "source": [
    "from collections import Counter\n",
    "from io import StringIO\n",
    "\n",
    "import pandas as pd\n",
    "import altair as alt"
   ]
  },
  {
   "cell_type": "code",
   "execution_count": 5,
   "metadata": {},
   "outputs": [
    {
     "data": {
      "text/plain": [
       "[('*', 62),\n",
       " ('A', 4),\n",
       " ('B', 19),\n",
       " ('C', 30),\n",
       " ('D', 10),\n",
       " ('E', 42),\n",
       " ('F', 79),\n",
       " ('G', 14),\n",
       " ('H', 6),\n",
       " ('I', 89),\n",
       " ('J', 16),\n",
       " ('K', 19),\n",
       " ('L', 22),\n",
       " ('M', 13),\n",
       " ('N', 7),\n",
       " ('O', 8),\n",
       " ('P', 35),\n",
       " ('Q', 103),\n",
       " ('R', 11),\n",
       " ('S', 42),\n",
       " ('T', 72),\n",
       " ('U', 70),\n",
       " ('V', 56),\n",
       " ('W', 26),\n",
       " ('X', 207),\n",
       " ('Y', 30),\n",
       " ('Z', 30)]"
      ]
     },
     "execution_count": 5,
     "metadata": {},
     "output_type": "execute_result"
    }
   ],
   "source": [
    "sorted(Counter(cipher_text).items())"
   ]
  },
  {
   "cell_type": "markdown",
   "metadata": {},
   "source": [
    "I'll reuse the functions from stage 4 to plot the distribution against the english letter distribution. (Yes, as stated on Simon Singh website, stage 3 is harder than stage 4 so I did this on before.)"
   ]
  },
  {
   "cell_type": "code",
   "execution_count": 20,
   "metadata": {},
   "outputs": [],
   "source": [
    "def create_freq_df(text, name=\"freq\", how=\"left\"):\n",
    "    \"\"\"Returns a dataframe with relative frequency of letters in the text\"\"\"\n",
    "    # Compute freqs from text\n",
    "    cipher_freq = sorted(Counter(text).items())\n",
    "    \n",
    "    # Get a dataframe with the whole alphabet\n",
    "    all_letters = pd.DataFrame({'letter': list(\"ABCDEFGHIJKLMNOPQRSTUVWXYZ\")})\n",
    "    freqs = pd.DataFrame.from_records(cipher_freq, columns=[\"letter\", name])\n",
    "    complete_freqs = all_letters.merge(freqs, how=how).fillna(0)\n",
    "    \n",
    "    # Normalize the frequencies\n",
    "    complete_freqs[name] = complete_freqs[name] / complete_freqs[name].sum()\n",
    "    return complete_freqs"
   ]
  },
  {
   "cell_type": "markdown",
   "metadata": {},
   "source": [
    "I added the `how` parameter, because here we do note want to remove special characters."
   ]
  },
  {
   "cell_type": "code",
   "execution_count": 21,
   "metadata": {},
   "outputs": [],
   "source": [
    "cipher_df = create_freq_df(cipher_text, \"freq\", \"outer\")"
   ]
  },
  {
   "cell_type": "code",
   "execution_count": 22,
   "metadata": {},
   "outputs": [
    {
     "data": {
      "text/html": [
       "<div>\n",
       "<style scoped>\n",
       "    .dataframe tbody tr th:only-of-type {\n",
       "        vertical-align: middle;\n",
       "    }\n",
       "\n",
       "    .dataframe tbody tr th {\n",
       "        vertical-align: top;\n",
       "    }\n",
       "\n",
       "    .dataframe thead th {\n",
       "        text-align: right;\n",
       "    }\n",
       "</style>\n",
       "<table border=\"1\" class=\"dataframe\">\n",
       "  <thead>\n",
       "    <tr style=\"text-align: right;\">\n",
       "      <th></th>\n",
       "      <th>letter</th>\n",
       "      <th>freq</th>\n",
       "    </tr>\n",
       "  </thead>\n",
       "  <tbody>\n",
       "    <tr>\n",
       "      <th>22</th>\n",
       "      <td>W</td>\n",
       "      <td>0.023173</td>\n",
       "    </tr>\n",
       "    <tr>\n",
       "      <th>23</th>\n",
       "      <td>X</td>\n",
       "      <td>0.184492</td>\n",
       "    </tr>\n",
       "    <tr>\n",
       "      <th>24</th>\n",
       "      <td>Y</td>\n",
       "      <td>0.026738</td>\n",
       "    </tr>\n",
       "    <tr>\n",
       "      <th>25</th>\n",
       "      <td>Z</td>\n",
       "      <td>0.026738</td>\n",
       "    </tr>\n",
       "    <tr>\n",
       "      <th>26</th>\n",
       "      <td>*</td>\n",
       "      <td>0.055258</td>\n",
       "    </tr>\n",
       "  </tbody>\n",
       "</table>\n",
       "</div>"
      ],
      "text/plain": [
       "   letter      freq\n",
       "22      W  0.023173\n",
       "23      X  0.184492\n",
       "24      Y  0.026738\n",
       "25      Z  0.026738\n",
       "26      *  0.055258"
      ]
     },
     "execution_count": 22,
     "metadata": {},
     "output_type": "execute_result"
    }
   ],
   "source": [
    "cipher_df.tail()"
   ]
  },
  {
   "cell_type": "code",
   "execution_count": 25,
   "metadata": {},
   "outputs": [],
   "source": [
    "english_freq = pd.read_fwf(StringIO(\"\"\"LET COUNT\n",
    "E   445.2\n",
    "T   330.5\n",
    "A   286.5\n",
    "O   272.3\n",
    "I   269.7\n",
    "N   257.8\n",
    "S   232.1\n",
    "R   223.8\n",
    "H   180.1\n",
    "L   145.0\n",
    "D   136.0\n",
    "C   119.2\n",
    "U   97.3\n",
    "M   89.5\n",
    "F   85.6\n",
    "P   76.1\n",
    "G   66.6\n",
    "W   59.7\n",
    "Y   59.3\n",
    "B   52.9\n",
    "V   37.5\n",
    "K   19.3\n",
    "X   8.4\n",
    "J   5.7\n",
    "Q   4.3\n",
    "Z   3.2\"\"\"), names=[\"letter\", \"eng_freq\"], header=0)\n",
    "english_freq = english_freq.sort_values(\"letter\").reset_index(drop=True)\n",
    "english_freq[\"eng_freq\"] = english_freq.eng_freq / english_freq.eng_freq.sum()"
   ]
  },
  {
   "cell_type": "code",
   "execution_count": 26,
   "metadata": {},
   "outputs": [
    {
     "data": {
      "text/html": [
       "<div>\n",
       "<style scoped>\n",
       "    .dataframe tbody tr th:only-of-type {\n",
       "        vertical-align: middle;\n",
       "    }\n",
       "\n",
       "    .dataframe tbody tr th {\n",
       "        vertical-align: top;\n",
       "    }\n",
       "\n",
       "    .dataframe thead th {\n",
       "        text-align: right;\n",
       "    }\n",
       "</style>\n",
       "<table border=\"1\" class=\"dataframe\">\n",
       "  <thead>\n",
       "    <tr style=\"text-align: right;\">\n",
       "      <th></th>\n",
       "      <th>letter</th>\n",
       "      <th>eng_freq</th>\n",
       "    </tr>\n",
       "  </thead>\n",
       "  <tbody>\n",
       "    <tr>\n",
       "      <th>21</th>\n",
       "      <td>V</td>\n",
       "      <td>0.010523</td>\n",
       "    </tr>\n",
       "    <tr>\n",
       "      <th>22</th>\n",
       "      <td>W</td>\n",
       "      <td>0.016753</td>\n",
       "    </tr>\n",
       "    <tr>\n",
       "      <th>23</th>\n",
       "      <td>X</td>\n",
       "      <td>0.002357</td>\n",
       "    </tr>\n",
       "    <tr>\n",
       "      <th>24</th>\n",
       "      <td>Y</td>\n",
       "      <td>0.016640</td>\n",
       "    </tr>\n",
       "    <tr>\n",
       "      <th>25</th>\n",
       "      <td>Z</td>\n",
       "      <td>0.000898</td>\n",
       "    </tr>\n",
       "  </tbody>\n",
       "</table>\n",
       "</div>"
      ],
      "text/plain": [
       "   letter  eng_freq\n",
       "21      V  0.010523\n",
       "22      W  0.016753\n",
       "23      X  0.002357\n",
       "24      Y  0.016640\n",
       "25      Z  0.000898"
      ]
     },
     "execution_count": 26,
     "metadata": {},
     "output_type": "execute_result"
    }
   ],
   "source": [
    "english_freq.tail()"
   ]
  },
  {
   "cell_type": "markdown",
   "metadata": {},
   "source": [
    "I will expand the cipher_df dataframe, to be able to move the distribution around."
   ]
  },
  {
   "cell_type": "code",
   "execution_count": 119,
   "metadata": {},
   "outputs": [],
   "source": [
    "def expand_df(df):\n",
    "    length = df.shape[0]\n",
    "    void = pd.DataFrame({\"letter\":[\"\"]*length,\n",
    "                         \"freq\":[0]*length\n",
    "                        })\n",
    "    triple = pd.concat([void, df, void], ignore_index=True)\n",
    "    \n",
    "    triple[\"dummy_date\"] = pd.date_range(start=\"2018-01-01\", periods=3*length, freq=\"D\")\n",
    "    return triple"
   ]
  },
  {
   "cell_type": "code",
   "execution_count": 120,
   "metadata": {},
   "outputs": [],
   "source": [
    "cipher_df_expanded = expand_df(cipher_df)"
   ]
  },
  {
   "cell_type": "code",
   "execution_count": 121,
   "metadata": {},
   "outputs": [
    {
     "data": {
      "text/html": [
       "<div>\n",
       "<style scoped>\n",
       "    .dataframe tbody tr th:only-of-type {\n",
       "        vertical-align: middle;\n",
       "    }\n",
       "\n",
       "    .dataframe tbody tr th {\n",
       "        vertical-align: top;\n",
       "    }\n",
       "\n",
       "    .dataframe thead th {\n",
       "        text-align: right;\n",
       "    }\n",
       "</style>\n",
       "<table border=\"1\" class=\"dataframe\">\n",
       "  <thead>\n",
       "    <tr style=\"text-align: right;\">\n",
       "      <th></th>\n",
       "      <th>letter</th>\n",
       "      <th>freq</th>\n",
       "      <th>dummy_date</th>\n",
       "    </tr>\n",
       "  </thead>\n",
       "  <tbody>\n",
       "    <tr>\n",
       "      <th>76</th>\n",
       "      <td></td>\n",
       "      <td>0.0</td>\n",
       "      <td>2018-03-18</td>\n",
       "    </tr>\n",
       "    <tr>\n",
       "      <th>77</th>\n",
       "      <td></td>\n",
       "      <td>0.0</td>\n",
       "      <td>2018-03-19</td>\n",
       "    </tr>\n",
       "    <tr>\n",
       "      <th>78</th>\n",
       "      <td></td>\n",
       "      <td>0.0</td>\n",
       "      <td>2018-03-20</td>\n",
       "    </tr>\n",
       "    <tr>\n",
       "      <th>79</th>\n",
       "      <td></td>\n",
       "      <td>0.0</td>\n",
       "      <td>2018-03-21</td>\n",
       "    </tr>\n",
       "    <tr>\n",
       "      <th>80</th>\n",
       "      <td></td>\n",
       "      <td>0.0</td>\n",
       "      <td>2018-03-22</td>\n",
       "    </tr>\n",
       "  </tbody>\n",
       "</table>\n",
       "</div>"
      ],
      "text/plain": [
       "   letter  freq dummy_date\n",
       "76          0.0 2018-03-18\n",
       "77          0.0 2018-03-19\n",
       "78          0.0 2018-03-20\n",
       "79          0.0 2018-03-21\n",
       "80          0.0 2018-03-22"
      ]
     },
     "execution_count": 121,
     "metadata": {},
     "output_type": "execute_result"
    }
   ],
   "source": [
    "cipher_df_expanded.tail()"
   ]
  },
  {
   "cell_type": "code",
   "execution_count": 163,
   "metadata": {},
   "outputs": [],
   "source": [
    "english_freq = english_freq.append({\"letter\":\"*\", \"eng_freq\":0}, ignore_index=True)\n",
    "english_freq_expanded = pd.concat([english_freq, english_freq, english_freq], ignore_index=True)\n",
    "english_freq_expanded[\"dummy_date\"] = pd.date_range(\"2018-01-01\", periods=english_freq_expanded.shape[0], freq=\"D\")"
   ]
  },
  {
   "cell_type": "code",
   "execution_count": 167,
   "metadata": {},
   "outputs": [],
   "source": [
    "english_chart = alt.Chart(english_freq_expanded).mark_bar().encode(\n",
    "    x=alt.X('dummy_date:T', axis=None),\n",
    "    y=alt.Y('eng_freq:Q'),\n",
    "    tooltip='letter:N'\n",
    ").properties(width=800, height=200)\n",
    "\n",
    "text = english_chart.mark_text(dy=-5).encode(\n",
    "    text=\"letter:N\"\n",
    ")"
   ]
  },
  {
   "cell_type": "code",
   "execution_count": 168,
   "metadata": {},
   "outputs": [],
   "source": [
    "english_chart_text = english_chart + text"
   ]
  },
  {
   "cell_type": "code",
   "execution_count": 169,
   "metadata": {},
   "outputs": [],
   "source": [
    "cipher_chart = alt.Chart(cipher_df_expanded).mark_bar().encode(\n",
    "    x=alt.X('dummy_date:T', axis=None), # This way we can move the graph around\n",
    "    y=alt.Y('freq:Q'),\n",
    "    tooltip='letter:N',\n",
    "    color=alt.value(\"red\")\n",
    ").properties(width=800, height=200)\n",
    "\n",
    "text_cipher = cipher_chart.mark_text(dy=-5).encode(\n",
    "    text=\"letter:N\"\n",
    ")"
   ]
  },
  {
   "cell_type": "code",
   "execution_count": 170,
   "metadata": {},
   "outputs": [],
   "source": [
    "cipher_chart_text = alt.LayerChart(layer=[cipher_chart,text_cipher]).interactive(bind_y=False)"
   ]
  },
  {
   "cell_type": "code",
   "execution_count": 172,
   "metadata": {},
   "outputs": [
    {
     "data": {
      "application/vnd.vegalite.v2+json": {
       "$schema": "https://vega.github.io/schema/vega-lite/v2.4.3.json",
       "config": {
        "view": {
         "height": 300,
         "width": 400
        }
       },
       "vconcat": [
        {
         "layer": [
          {
           "data": {
            "values": [
             {
              "dummy_date": "2018-01-01",
              "eng_freq": 0.08039622853294422,
              "letter": "A"
             },
             {
              "dummy_date": "2018-01-02",
              "eng_freq": 0.014844539229992142,
              "letter": "B"
             },
             {
              "dummy_date": "2018-01-03",
              "eng_freq": 0.033449320911437874,
              "letter": "C"
             },
             {
              "dummy_date": "2018-01-04",
              "eng_freq": 0.038163654731170726,
              "letter": "D"
             },
             {
              "dummy_date": "2018-01-05",
              "eng_freq": 0.12492984622292064,
              "letter": "E"
             },
             {
              "dummy_date": "2018-01-06",
              "eng_freq": 0.024020653271972163,
              "letter": "F"
             },
             {
              "dummy_date": "2018-01-07",
              "eng_freq": 0.018688966213940957,
              "letter": "G"
             },
             {
              "dummy_date": "2018-01-08",
              "eng_freq": 0.05053878100796947,
              "letter": "H"
             },
             {
              "dummy_date": "2018-01-09",
              "eng_freq": 0.07568189471321136,
              "letter": "I"
             },
             {
              "dummy_date": "2018-01-10",
              "eng_freq": 0.0015995061174093614,
              "letter": "J"
             },
             {
              "dummy_date": "2018-01-11",
              "eng_freq": 0.005415871590526434,
              "letter": "K"
             },
             {
              "dummy_date": "2018-01-12",
              "eng_freq": 0.04068919070602761,
              "letter": "L"
             },
             {
              "dummy_date": "2018-01-13",
              "eng_freq": 0.025115052194410147,
              "letter": "M"
             },
             {
              "dummy_date": "2018-01-14",
              "eng_freq": 0.07234257492423393,
              "letter": "N"
             },
             {
              "dummy_date": "2018-01-15",
              "eng_freq": 0.07641149399483668,
              "letter": "O"
             },
             {
              "dummy_date": "2018-01-16",
              "eng_freq": 0.02135480974295656,
              "letter": "P"
             },
             {
              "dummy_date": "2018-01-17",
              "eng_freq": 0.0012066449657649567,
              "letter": "Q"
             },
             {
              "dummy_date": "2018-01-18",
              "eng_freq": 0.06280166124144125,
              "letter": "R"
             },
             {
              "dummy_date": "2018-01-19",
              "eng_freq": 0.06513076664047593,
              "letter": "S"
             },
             {
              "dummy_date": "2018-01-20",
              "eng_freq": 0.09274329329891122,
              "letter": "T"
             },
             {
              "dummy_date": "2018-01-21",
              "eng_freq": 0.027303850039286114,
              "letter": "U"
             },
             {
              "dummy_date": "2018-01-22",
              "eng_freq": 0.010523066561903693,
              "letter": "V"
             },
             {
              "dummy_date": "2018-01-23",
              "eng_freq": 0.01675272196655068,
              "letter": "W"
             },
             {
              "dummy_date": "2018-01-24",
              "eng_freq": 0.0023571669098664274,
              "letter": "X"
             },
             {
              "dummy_date": "2018-01-25",
              "eng_freq": 0.016640475923223708,
              "letter": "Y"
             },
             {
              "dummy_date": "2018-01-26",
              "eng_freq": 0.0008979683466157818,
              "letter": "Z"
             },
             {
              "dummy_date": "2018-01-27",
              "eng_freq": 0,
              "letter": "*"
             },
             {
              "dummy_date": "2018-01-28",
              "eng_freq": 0.08039622853294422,
              "letter": "A"
             },
             {
              "dummy_date": "2018-01-29",
              "eng_freq": 0.014844539229992142,
              "letter": "B"
             },
             {
              "dummy_date": "2018-01-30",
              "eng_freq": 0.033449320911437874,
              "letter": "C"
             },
             {
              "dummy_date": "2018-01-31",
              "eng_freq": 0.038163654731170726,
              "letter": "D"
             },
             {
              "dummy_date": "2018-02-01",
              "eng_freq": 0.12492984622292064,
              "letter": "E"
             },
             {
              "dummy_date": "2018-02-02",
              "eng_freq": 0.024020653271972163,
              "letter": "F"
             },
             {
              "dummy_date": "2018-02-03",
              "eng_freq": 0.018688966213940957,
              "letter": "G"
             },
             {
              "dummy_date": "2018-02-04",
              "eng_freq": 0.05053878100796947,
              "letter": "H"
             },
             {
              "dummy_date": "2018-02-05",
              "eng_freq": 0.07568189471321136,
              "letter": "I"
             },
             {
              "dummy_date": "2018-02-06",
              "eng_freq": 0.0015995061174093614,
              "letter": "J"
             },
             {
              "dummy_date": "2018-02-07",
              "eng_freq": 0.005415871590526434,
              "letter": "K"
             },
             {
              "dummy_date": "2018-02-08",
              "eng_freq": 0.04068919070602761,
              "letter": "L"
             },
             {
              "dummy_date": "2018-02-09",
              "eng_freq": 0.025115052194410147,
              "letter": "M"
             },
             {
              "dummy_date": "2018-02-10",
              "eng_freq": 0.07234257492423393,
              "letter": "N"
             },
             {
              "dummy_date": "2018-02-11",
              "eng_freq": 0.07641149399483668,
              "letter": "O"
             },
             {
              "dummy_date": "2018-02-12",
              "eng_freq": 0.02135480974295656,
              "letter": "P"
             },
             {
              "dummy_date": "2018-02-13",
              "eng_freq": 0.0012066449657649567,
              "letter": "Q"
             },
             {
              "dummy_date": "2018-02-14",
              "eng_freq": 0.06280166124144125,
              "letter": "R"
             },
             {
              "dummy_date": "2018-02-15",
              "eng_freq": 0.06513076664047593,
              "letter": "S"
             },
             {
              "dummy_date": "2018-02-16",
              "eng_freq": 0.09274329329891122,
              "letter": "T"
             },
             {
              "dummy_date": "2018-02-17",
              "eng_freq": 0.027303850039286114,
              "letter": "U"
             },
             {
              "dummy_date": "2018-02-18",
              "eng_freq": 0.010523066561903693,
              "letter": "V"
             },
             {
              "dummy_date": "2018-02-19",
              "eng_freq": 0.01675272196655068,
              "letter": "W"
             },
             {
              "dummy_date": "2018-02-20",
              "eng_freq": 0.0023571669098664274,
              "letter": "X"
             },
             {
              "dummy_date": "2018-02-21",
              "eng_freq": 0.016640475923223708,
              "letter": "Y"
             },
             {
              "dummy_date": "2018-02-22",
              "eng_freq": 0.0008979683466157818,
              "letter": "Z"
             },
             {
              "dummy_date": "2018-02-23",
              "eng_freq": 0,
              "letter": "*"
             },
             {
              "dummy_date": "2018-02-24",
              "eng_freq": 0.08039622853294422,
              "letter": "A"
             },
             {
              "dummy_date": "2018-02-25",
              "eng_freq": 0.014844539229992142,
              "letter": "B"
             },
             {
              "dummy_date": "2018-02-26",
              "eng_freq": 0.033449320911437874,
              "letter": "C"
             },
             {
              "dummy_date": "2018-02-27",
              "eng_freq": 0.038163654731170726,
              "letter": "D"
             },
             {
              "dummy_date": "2018-02-28",
              "eng_freq": 0.12492984622292064,
              "letter": "E"
             },
             {
              "dummy_date": "2018-03-01",
              "eng_freq": 0.024020653271972163,
              "letter": "F"
             },
             {
              "dummy_date": "2018-03-02",
              "eng_freq": 0.018688966213940957,
              "letter": "G"
             },
             {
              "dummy_date": "2018-03-03",
              "eng_freq": 0.05053878100796947,
              "letter": "H"
             },
             {
              "dummy_date": "2018-03-04",
              "eng_freq": 0.07568189471321136,
              "letter": "I"
             },
             {
              "dummy_date": "2018-03-05",
              "eng_freq": 0.0015995061174093614,
              "letter": "J"
             },
             {
              "dummy_date": "2018-03-06",
              "eng_freq": 0.005415871590526434,
              "letter": "K"
             },
             {
              "dummy_date": "2018-03-07",
              "eng_freq": 0.04068919070602761,
              "letter": "L"
             },
             {
              "dummy_date": "2018-03-08",
              "eng_freq": 0.025115052194410147,
              "letter": "M"
             },
             {
              "dummy_date": "2018-03-09",
              "eng_freq": 0.07234257492423393,
              "letter": "N"
             },
             {
              "dummy_date": "2018-03-10",
              "eng_freq": 0.07641149399483668,
              "letter": "O"
             },
             {
              "dummy_date": "2018-03-11",
              "eng_freq": 0.02135480974295656,
              "letter": "P"
             },
             {
              "dummy_date": "2018-03-12",
              "eng_freq": 0.0012066449657649567,
              "letter": "Q"
             },
             {
              "dummy_date": "2018-03-13",
              "eng_freq": 0.06280166124144125,
              "letter": "R"
             },
             {
              "dummy_date": "2018-03-14",
              "eng_freq": 0.06513076664047593,
              "letter": "S"
             },
             {
              "dummy_date": "2018-03-15",
              "eng_freq": 0.09274329329891122,
              "letter": "T"
             },
             {
              "dummy_date": "2018-03-16",
              "eng_freq": 0.027303850039286114,
              "letter": "U"
             },
             {
              "dummy_date": "2018-03-17",
              "eng_freq": 0.010523066561903693,
              "letter": "V"
             },
             {
              "dummy_date": "2018-03-18",
              "eng_freq": 0.01675272196655068,
              "letter": "W"
             },
             {
              "dummy_date": "2018-03-19",
              "eng_freq": 0.0023571669098664274,
              "letter": "X"
             },
             {
              "dummy_date": "2018-03-20",
              "eng_freq": 0.016640475923223708,
              "letter": "Y"
             },
             {
              "dummy_date": "2018-03-21",
              "eng_freq": 0.0008979683466157818,
              "letter": "Z"
             },
             {
              "dummy_date": "2018-03-22",
              "eng_freq": 0,
              "letter": "*"
             }
            ]
           },
           "encoding": {
            "tooltip": {
             "field": "letter",
             "type": "nominal"
            },
            "x": {
             "axis": null,
             "field": "dummy_date",
             "type": "temporal"
            },
            "y": {
             "field": "eng_freq",
             "type": "quantitative"
            }
           },
           "height": 200,
           "mark": "bar",
           "width": 800
          },
          {
           "data": {
            "values": [
             {
              "dummy_date": "2018-01-01",
              "eng_freq": 0.08039622853294422,
              "letter": "A"
             },
             {
              "dummy_date": "2018-01-02",
              "eng_freq": 0.014844539229992142,
              "letter": "B"
             },
             {
              "dummy_date": "2018-01-03",
              "eng_freq": 0.033449320911437874,
              "letter": "C"
             },
             {
              "dummy_date": "2018-01-04",
              "eng_freq": 0.038163654731170726,
              "letter": "D"
             },
             {
              "dummy_date": "2018-01-05",
              "eng_freq": 0.12492984622292064,
              "letter": "E"
             },
             {
              "dummy_date": "2018-01-06",
              "eng_freq": 0.024020653271972163,
              "letter": "F"
             },
             {
              "dummy_date": "2018-01-07",
              "eng_freq": 0.018688966213940957,
              "letter": "G"
             },
             {
              "dummy_date": "2018-01-08",
              "eng_freq": 0.05053878100796947,
              "letter": "H"
             },
             {
              "dummy_date": "2018-01-09",
              "eng_freq": 0.07568189471321136,
              "letter": "I"
             },
             {
              "dummy_date": "2018-01-10",
              "eng_freq": 0.0015995061174093614,
              "letter": "J"
             },
             {
              "dummy_date": "2018-01-11",
              "eng_freq": 0.005415871590526434,
              "letter": "K"
             },
             {
              "dummy_date": "2018-01-12",
              "eng_freq": 0.04068919070602761,
              "letter": "L"
             },
             {
              "dummy_date": "2018-01-13",
              "eng_freq": 0.025115052194410147,
              "letter": "M"
             },
             {
              "dummy_date": "2018-01-14",
              "eng_freq": 0.07234257492423393,
              "letter": "N"
             },
             {
              "dummy_date": "2018-01-15",
              "eng_freq": 0.07641149399483668,
              "letter": "O"
             },
             {
              "dummy_date": "2018-01-16",
              "eng_freq": 0.02135480974295656,
              "letter": "P"
             },
             {
              "dummy_date": "2018-01-17",
              "eng_freq": 0.0012066449657649567,
              "letter": "Q"
             },
             {
              "dummy_date": "2018-01-18",
              "eng_freq": 0.06280166124144125,
              "letter": "R"
             },
             {
              "dummy_date": "2018-01-19",
              "eng_freq": 0.06513076664047593,
              "letter": "S"
             },
             {
              "dummy_date": "2018-01-20",
              "eng_freq": 0.09274329329891122,
              "letter": "T"
             },
             {
              "dummy_date": "2018-01-21",
              "eng_freq": 0.027303850039286114,
              "letter": "U"
             },
             {
              "dummy_date": "2018-01-22",
              "eng_freq": 0.010523066561903693,
              "letter": "V"
             },
             {
              "dummy_date": "2018-01-23",
              "eng_freq": 0.01675272196655068,
              "letter": "W"
             },
             {
              "dummy_date": "2018-01-24",
              "eng_freq": 0.0023571669098664274,
              "letter": "X"
             },
             {
              "dummy_date": "2018-01-25",
              "eng_freq": 0.016640475923223708,
              "letter": "Y"
             },
             {
              "dummy_date": "2018-01-26",
              "eng_freq": 0.0008979683466157818,
              "letter": "Z"
             },
             {
              "dummy_date": "2018-01-27",
              "eng_freq": 0,
              "letter": "*"
             },
             {
              "dummy_date": "2018-01-28",
              "eng_freq": 0.08039622853294422,
              "letter": "A"
             },
             {
              "dummy_date": "2018-01-29",
              "eng_freq": 0.014844539229992142,
              "letter": "B"
             },
             {
              "dummy_date": "2018-01-30",
              "eng_freq": 0.033449320911437874,
              "letter": "C"
             },
             {
              "dummy_date": "2018-01-31",
              "eng_freq": 0.038163654731170726,
              "letter": "D"
             },
             {
              "dummy_date": "2018-02-01",
              "eng_freq": 0.12492984622292064,
              "letter": "E"
             },
             {
              "dummy_date": "2018-02-02",
              "eng_freq": 0.024020653271972163,
              "letter": "F"
             },
             {
              "dummy_date": "2018-02-03",
              "eng_freq": 0.018688966213940957,
              "letter": "G"
             },
             {
              "dummy_date": "2018-02-04",
              "eng_freq": 0.05053878100796947,
              "letter": "H"
             },
             {
              "dummy_date": "2018-02-05",
              "eng_freq": 0.07568189471321136,
              "letter": "I"
             },
             {
              "dummy_date": "2018-02-06",
              "eng_freq": 0.0015995061174093614,
              "letter": "J"
             },
             {
              "dummy_date": "2018-02-07",
              "eng_freq": 0.005415871590526434,
              "letter": "K"
             },
             {
              "dummy_date": "2018-02-08",
              "eng_freq": 0.04068919070602761,
              "letter": "L"
             },
             {
              "dummy_date": "2018-02-09",
              "eng_freq": 0.025115052194410147,
              "letter": "M"
             },
             {
              "dummy_date": "2018-02-10",
              "eng_freq": 0.07234257492423393,
              "letter": "N"
             },
             {
              "dummy_date": "2018-02-11",
              "eng_freq": 0.07641149399483668,
              "letter": "O"
             },
             {
              "dummy_date": "2018-02-12",
              "eng_freq": 0.02135480974295656,
              "letter": "P"
             },
             {
              "dummy_date": "2018-02-13",
              "eng_freq": 0.0012066449657649567,
              "letter": "Q"
             },
             {
              "dummy_date": "2018-02-14",
              "eng_freq": 0.06280166124144125,
              "letter": "R"
             },
             {
              "dummy_date": "2018-02-15",
              "eng_freq": 0.06513076664047593,
              "letter": "S"
             },
             {
              "dummy_date": "2018-02-16",
              "eng_freq": 0.09274329329891122,
              "letter": "T"
             },
             {
              "dummy_date": "2018-02-17",
              "eng_freq": 0.027303850039286114,
              "letter": "U"
             },
             {
              "dummy_date": "2018-02-18",
              "eng_freq": 0.010523066561903693,
              "letter": "V"
             },
             {
              "dummy_date": "2018-02-19",
              "eng_freq": 0.01675272196655068,
              "letter": "W"
             },
             {
              "dummy_date": "2018-02-20",
              "eng_freq": 0.0023571669098664274,
              "letter": "X"
             },
             {
              "dummy_date": "2018-02-21",
              "eng_freq": 0.016640475923223708,
              "letter": "Y"
             },
             {
              "dummy_date": "2018-02-22",
              "eng_freq": 0.0008979683466157818,
              "letter": "Z"
             },
             {
              "dummy_date": "2018-02-23",
              "eng_freq": 0,
              "letter": "*"
             },
             {
              "dummy_date": "2018-02-24",
              "eng_freq": 0.08039622853294422,
              "letter": "A"
             },
             {
              "dummy_date": "2018-02-25",
              "eng_freq": 0.014844539229992142,
              "letter": "B"
             },
             {
              "dummy_date": "2018-02-26",
              "eng_freq": 0.033449320911437874,
              "letter": "C"
             },
             {
              "dummy_date": "2018-02-27",
              "eng_freq": 0.038163654731170726,
              "letter": "D"
             },
             {
              "dummy_date": "2018-02-28",
              "eng_freq": 0.12492984622292064,
              "letter": "E"
             },
             {
              "dummy_date": "2018-03-01",
              "eng_freq": 0.024020653271972163,
              "letter": "F"
             },
             {
              "dummy_date": "2018-03-02",
              "eng_freq": 0.018688966213940957,
              "letter": "G"
             },
             {
              "dummy_date": "2018-03-03",
              "eng_freq": 0.05053878100796947,
              "letter": "H"
             },
             {
              "dummy_date": "2018-03-04",
              "eng_freq": 0.07568189471321136,
              "letter": "I"
             },
             {
              "dummy_date": "2018-03-05",
              "eng_freq": 0.0015995061174093614,
              "letter": "J"
             },
             {
              "dummy_date": "2018-03-06",
              "eng_freq": 0.005415871590526434,
              "letter": "K"
             },
             {
              "dummy_date": "2018-03-07",
              "eng_freq": 0.04068919070602761,
              "letter": "L"
             },
             {
              "dummy_date": "2018-03-08",
              "eng_freq": 0.025115052194410147,
              "letter": "M"
             },
             {
              "dummy_date": "2018-03-09",
              "eng_freq": 0.07234257492423393,
              "letter": "N"
             },
             {
              "dummy_date": "2018-03-10",
              "eng_freq": 0.07641149399483668,
              "letter": "O"
             },
             {
              "dummy_date": "2018-03-11",
              "eng_freq": 0.02135480974295656,
              "letter": "P"
             },
             {
              "dummy_date": "2018-03-12",
              "eng_freq": 0.0012066449657649567,
              "letter": "Q"
             },
             {
              "dummy_date": "2018-03-13",
              "eng_freq": 0.06280166124144125,
              "letter": "R"
             },
             {
              "dummy_date": "2018-03-14",
              "eng_freq": 0.06513076664047593,
              "letter": "S"
             },
             {
              "dummy_date": "2018-03-15",
              "eng_freq": 0.09274329329891122,
              "letter": "T"
             },
             {
              "dummy_date": "2018-03-16",
              "eng_freq": 0.027303850039286114,
              "letter": "U"
             },
             {
              "dummy_date": "2018-03-17",
              "eng_freq": 0.010523066561903693,
              "letter": "V"
             },
             {
              "dummy_date": "2018-03-18",
              "eng_freq": 0.01675272196655068,
              "letter": "W"
             },
             {
              "dummy_date": "2018-03-19",
              "eng_freq": 0.0023571669098664274,
              "letter": "X"
             },
             {
              "dummy_date": "2018-03-20",
              "eng_freq": 0.016640475923223708,
              "letter": "Y"
             },
             {
              "dummy_date": "2018-03-21",
              "eng_freq": 0.0008979683466157818,
              "letter": "Z"
             },
             {
              "dummy_date": "2018-03-22",
              "eng_freq": 0,
              "letter": "*"
             }
            ]
           },
           "encoding": {
            "text": {
             "field": "letter",
             "type": "nominal"
            },
            "tooltip": {
             "field": "letter",
             "type": "nominal"
            },
            "x": {
             "axis": null,
             "field": "dummy_date",
             "type": "temporal"
            },
            "y": {
             "field": "eng_freq",
             "type": "quantitative"
            }
           },
           "height": 200,
           "mark": {
            "dy": -5,
            "type": "text"
           },
           "width": 800
          }
         ]
        },
        {
         "layer": [
          {
           "data": {
            "values": [
             {
              "dummy_date": "2018-01-01",
              "freq": 0,
              "letter": ""
             },
             {
              "dummy_date": "2018-01-02",
              "freq": 0,
              "letter": ""
             },
             {
              "dummy_date": "2018-01-03",
              "freq": 0,
              "letter": ""
             },
             {
              "dummy_date": "2018-01-04",
              "freq": 0,
              "letter": ""
             },
             {
              "dummy_date": "2018-01-05",
              "freq": 0,
              "letter": ""
             },
             {
              "dummy_date": "2018-01-06",
              "freq": 0,
              "letter": ""
             },
             {
              "dummy_date": "2018-01-07",
              "freq": 0,
              "letter": ""
             },
             {
              "dummy_date": "2018-01-08",
              "freq": 0,
              "letter": ""
             },
             {
              "dummy_date": "2018-01-09",
              "freq": 0,
              "letter": ""
             },
             {
              "dummy_date": "2018-01-10",
              "freq": 0,
              "letter": ""
             },
             {
              "dummy_date": "2018-01-11",
              "freq": 0,
              "letter": ""
             },
             {
              "dummy_date": "2018-01-12",
              "freq": 0,
              "letter": ""
             },
             {
              "dummy_date": "2018-01-13",
              "freq": 0,
              "letter": ""
             },
             {
              "dummy_date": "2018-01-14",
              "freq": 0,
              "letter": ""
             },
             {
              "dummy_date": "2018-01-15",
              "freq": 0,
              "letter": ""
             },
             {
              "dummy_date": "2018-01-16",
              "freq": 0,
              "letter": ""
             },
             {
              "dummy_date": "2018-01-17",
              "freq": 0,
              "letter": ""
             },
             {
              "dummy_date": "2018-01-18",
              "freq": 0,
              "letter": ""
             },
             {
              "dummy_date": "2018-01-19",
              "freq": 0,
              "letter": ""
             },
             {
              "dummy_date": "2018-01-20",
              "freq": 0,
              "letter": ""
             },
             {
              "dummy_date": "2018-01-21",
              "freq": 0,
              "letter": ""
             },
             {
              "dummy_date": "2018-01-22",
              "freq": 0,
              "letter": ""
             },
             {
              "dummy_date": "2018-01-23",
              "freq": 0,
              "letter": ""
             },
             {
              "dummy_date": "2018-01-24",
              "freq": 0,
              "letter": ""
             },
             {
              "dummy_date": "2018-01-25",
              "freq": 0,
              "letter": ""
             },
             {
              "dummy_date": "2018-01-26",
              "freq": 0,
              "letter": ""
             },
             {
              "dummy_date": "2018-01-27",
              "freq": 0,
              "letter": ""
             },
             {
              "dummy_date": "2018-01-28",
              "freq": 0.0035650623885918,
              "letter": "A"
             },
             {
              "dummy_date": "2018-01-29",
              "freq": 0.01693404634581105,
              "letter": "B"
             },
             {
              "dummy_date": "2018-01-30",
              "freq": 0.026737967914438502,
              "letter": "C"
             },
             {
              "dummy_date": "2018-01-31",
              "freq": 0.008912655971479501,
              "letter": "D"
             },
             {
              "dummy_date": "2018-02-01",
              "freq": 0.0374331550802139,
              "letter": "E"
             },
             {
              "dummy_date": "2018-02-02",
              "freq": 0.07040998217468805,
              "letter": "F"
             },
             {
              "dummy_date": "2018-02-03",
              "freq": 0.012477718360071301,
              "letter": "G"
             },
             {
              "dummy_date": "2018-02-04",
              "freq": 0.0053475935828877,
              "letter": "H"
             },
             {
              "dummy_date": "2018-02-05",
              "freq": 0.07932263814616755,
              "letter": "I"
             },
             {
              "dummy_date": "2018-02-06",
              "freq": 0.0142602495543672,
              "letter": "J"
             },
             {
              "dummy_date": "2018-02-07",
              "freq": 0.01693404634581105,
              "letter": "K"
             },
             {
              "dummy_date": "2018-02-08",
              "freq": 0.0196078431372549,
              "letter": "L"
             },
             {
              "dummy_date": "2018-02-09",
              "freq": 0.011586452762923352,
              "letter": "M"
             },
             {
              "dummy_date": "2018-02-10",
              "freq": 0.006238859180035651,
              "letter": "N"
             },
             {
              "dummy_date": "2018-02-11",
              "freq": 0.0071301247771836,
              "letter": "O"
             },
             {
              "dummy_date": "2018-02-12",
              "freq": 0.031194295900178252,
              "letter": "P"
             },
             {
              "dummy_date": "2018-02-13",
              "freq": 0.09180035650623886,
              "letter": "Q"
             },
             {
              "dummy_date": "2018-02-14",
              "freq": 0.00980392156862745,
              "letter": "R"
             },
             {
              "dummy_date": "2018-02-15",
              "freq": 0.0374331550802139,
              "letter": "S"
             },
             {
              "dummy_date": "2018-02-16",
              "freq": 0.06417112299465241,
              "letter": "T"
             },
             {
              "dummy_date": "2018-02-17",
              "freq": 0.062388591800356503,
              "letter": "U"
             },
             {
              "dummy_date": "2018-02-18",
              "freq": 0.049910873440285206,
              "letter": "V"
             },
             {
              "dummy_date": "2018-02-19",
              "freq": 0.023172905525846704,
              "letter": "W"
             },
             {
              "dummy_date": "2018-02-20",
              "freq": 0.18449197860962566,
              "letter": "X"
             },
             {
              "dummy_date": "2018-02-21",
              "freq": 0.026737967914438502,
              "letter": "Y"
             },
             {
              "dummy_date": "2018-02-22",
              "freq": 0.026737967914438502,
              "letter": "Z"
             },
             {
              "dummy_date": "2018-02-23",
              "freq": 0.05525846702317291,
              "letter": "*"
             },
             {
              "dummy_date": "2018-02-24",
              "freq": 0,
              "letter": ""
             },
             {
              "dummy_date": "2018-02-25",
              "freq": 0,
              "letter": ""
             },
             {
              "dummy_date": "2018-02-26",
              "freq": 0,
              "letter": ""
             },
             {
              "dummy_date": "2018-02-27",
              "freq": 0,
              "letter": ""
             },
             {
              "dummy_date": "2018-02-28",
              "freq": 0,
              "letter": ""
             },
             {
              "dummy_date": "2018-03-01",
              "freq": 0,
              "letter": ""
             },
             {
              "dummy_date": "2018-03-02",
              "freq": 0,
              "letter": ""
             },
             {
              "dummy_date": "2018-03-03",
              "freq": 0,
              "letter": ""
             },
             {
              "dummy_date": "2018-03-04",
              "freq": 0,
              "letter": ""
             },
             {
              "dummy_date": "2018-03-05",
              "freq": 0,
              "letter": ""
             },
             {
              "dummy_date": "2018-03-06",
              "freq": 0,
              "letter": ""
             },
             {
              "dummy_date": "2018-03-07",
              "freq": 0,
              "letter": ""
             },
             {
              "dummy_date": "2018-03-08",
              "freq": 0,
              "letter": ""
             },
             {
              "dummy_date": "2018-03-09",
              "freq": 0,
              "letter": ""
             },
             {
              "dummy_date": "2018-03-10",
              "freq": 0,
              "letter": ""
             },
             {
              "dummy_date": "2018-03-11",
              "freq": 0,
              "letter": ""
             },
             {
              "dummy_date": "2018-03-12",
              "freq": 0,
              "letter": ""
             },
             {
              "dummy_date": "2018-03-13",
              "freq": 0,
              "letter": ""
             },
             {
              "dummy_date": "2018-03-14",
              "freq": 0,
              "letter": ""
             },
             {
              "dummy_date": "2018-03-15",
              "freq": 0,
              "letter": ""
             },
             {
              "dummy_date": "2018-03-16",
              "freq": 0,
              "letter": ""
             },
             {
              "dummy_date": "2018-03-17",
              "freq": 0,
              "letter": ""
             },
             {
              "dummy_date": "2018-03-18",
              "freq": 0,
              "letter": ""
             },
             {
              "dummy_date": "2018-03-19",
              "freq": 0,
              "letter": ""
             },
             {
              "dummy_date": "2018-03-20",
              "freq": 0,
              "letter": ""
             },
             {
              "dummy_date": "2018-03-21",
              "freq": 0,
              "letter": ""
             },
             {
              "dummy_date": "2018-03-22",
              "freq": 0,
              "letter": ""
             }
            ]
           },
           "encoding": {
            "color": {
             "value": "red"
            },
            "tooltip": {
             "field": "letter",
             "type": "nominal"
            },
            "x": {
             "axis": null,
             "field": "dummy_date",
             "type": "temporal"
            },
            "y": {
             "field": "freq",
             "type": "quantitative"
            }
           },
           "height": 200,
           "mark": "bar",
           "selection": {
            "selector019": {
             "bind": "scales",
             "encodings": [
              "x"
             ],
             "mark": {
              "fill": "#333",
              "fillOpacity": 0.125,
              "stroke": "white"
             },
             "on": "[mousedown, window:mouseup] > window:mousemove!",
             "resolve": "global",
             "translate": "[mousedown, window:mouseup] > window:mousemove!",
             "type": "interval",
             "zoom": "wheel!"
            }
           },
           "width": 800
          },
          {
           "data": {
            "values": [
             {
              "dummy_date": "2018-01-01",
              "freq": 0,
              "letter": ""
             },
             {
              "dummy_date": "2018-01-02",
              "freq": 0,
              "letter": ""
             },
             {
              "dummy_date": "2018-01-03",
              "freq": 0,
              "letter": ""
             },
             {
              "dummy_date": "2018-01-04",
              "freq": 0,
              "letter": ""
             },
             {
              "dummy_date": "2018-01-05",
              "freq": 0,
              "letter": ""
             },
             {
              "dummy_date": "2018-01-06",
              "freq": 0,
              "letter": ""
             },
             {
              "dummy_date": "2018-01-07",
              "freq": 0,
              "letter": ""
             },
             {
              "dummy_date": "2018-01-08",
              "freq": 0,
              "letter": ""
             },
             {
              "dummy_date": "2018-01-09",
              "freq": 0,
              "letter": ""
             },
             {
              "dummy_date": "2018-01-10",
              "freq": 0,
              "letter": ""
             },
             {
              "dummy_date": "2018-01-11",
              "freq": 0,
              "letter": ""
             },
             {
              "dummy_date": "2018-01-12",
              "freq": 0,
              "letter": ""
             },
             {
              "dummy_date": "2018-01-13",
              "freq": 0,
              "letter": ""
             },
             {
              "dummy_date": "2018-01-14",
              "freq": 0,
              "letter": ""
             },
             {
              "dummy_date": "2018-01-15",
              "freq": 0,
              "letter": ""
             },
             {
              "dummy_date": "2018-01-16",
              "freq": 0,
              "letter": ""
             },
             {
              "dummy_date": "2018-01-17",
              "freq": 0,
              "letter": ""
             },
             {
              "dummy_date": "2018-01-18",
              "freq": 0,
              "letter": ""
             },
             {
              "dummy_date": "2018-01-19",
              "freq": 0,
              "letter": ""
             },
             {
              "dummy_date": "2018-01-20",
              "freq": 0,
              "letter": ""
             },
             {
              "dummy_date": "2018-01-21",
              "freq": 0,
              "letter": ""
             },
             {
              "dummy_date": "2018-01-22",
              "freq": 0,
              "letter": ""
             },
             {
              "dummy_date": "2018-01-23",
              "freq": 0,
              "letter": ""
             },
             {
              "dummy_date": "2018-01-24",
              "freq": 0,
              "letter": ""
             },
             {
              "dummy_date": "2018-01-25",
              "freq": 0,
              "letter": ""
             },
             {
              "dummy_date": "2018-01-26",
              "freq": 0,
              "letter": ""
             },
             {
              "dummy_date": "2018-01-27",
              "freq": 0,
              "letter": ""
             },
             {
              "dummy_date": "2018-01-28",
              "freq": 0.0035650623885918,
              "letter": "A"
             },
             {
              "dummy_date": "2018-01-29",
              "freq": 0.01693404634581105,
              "letter": "B"
             },
             {
              "dummy_date": "2018-01-30",
              "freq": 0.026737967914438502,
              "letter": "C"
             },
             {
              "dummy_date": "2018-01-31",
              "freq": 0.008912655971479501,
              "letter": "D"
             },
             {
              "dummy_date": "2018-02-01",
              "freq": 0.0374331550802139,
              "letter": "E"
             },
             {
              "dummy_date": "2018-02-02",
              "freq": 0.07040998217468805,
              "letter": "F"
             },
             {
              "dummy_date": "2018-02-03",
              "freq": 0.012477718360071301,
              "letter": "G"
             },
             {
              "dummy_date": "2018-02-04",
              "freq": 0.0053475935828877,
              "letter": "H"
             },
             {
              "dummy_date": "2018-02-05",
              "freq": 0.07932263814616755,
              "letter": "I"
             },
             {
              "dummy_date": "2018-02-06",
              "freq": 0.0142602495543672,
              "letter": "J"
             },
             {
              "dummy_date": "2018-02-07",
              "freq": 0.01693404634581105,
              "letter": "K"
             },
             {
              "dummy_date": "2018-02-08",
              "freq": 0.0196078431372549,
              "letter": "L"
             },
             {
              "dummy_date": "2018-02-09",
              "freq": 0.011586452762923352,
              "letter": "M"
             },
             {
              "dummy_date": "2018-02-10",
              "freq": 0.006238859180035651,
              "letter": "N"
             },
             {
              "dummy_date": "2018-02-11",
              "freq": 0.0071301247771836,
              "letter": "O"
             },
             {
              "dummy_date": "2018-02-12",
              "freq": 0.031194295900178252,
              "letter": "P"
             },
             {
              "dummy_date": "2018-02-13",
              "freq": 0.09180035650623886,
              "letter": "Q"
             },
             {
              "dummy_date": "2018-02-14",
              "freq": 0.00980392156862745,
              "letter": "R"
             },
             {
              "dummy_date": "2018-02-15",
              "freq": 0.0374331550802139,
              "letter": "S"
             },
             {
              "dummy_date": "2018-02-16",
              "freq": 0.06417112299465241,
              "letter": "T"
             },
             {
              "dummy_date": "2018-02-17",
              "freq": 0.062388591800356503,
              "letter": "U"
             },
             {
              "dummy_date": "2018-02-18",
              "freq": 0.049910873440285206,
              "letter": "V"
             },
             {
              "dummy_date": "2018-02-19",
              "freq": 0.023172905525846704,
              "letter": "W"
             },
             {
              "dummy_date": "2018-02-20",
              "freq": 0.18449197860962566,
              "letter": "X"
             },
             {
              "dummy_date": "2018-02-21",
              "freq": 0.026737967914438502,
              "letter": "Y"
             },
             {
              "dummy_date": "2018-02-22",
              "freq": 0.026737967914438502,
              "letter": "Z"
             },
             {
              "dummy_date": "2018-02-23",
              "freq": 0.05525846702317291,
              "letter": "*"
             },
             {
              "dummy_date": "2018-02-24",
              "freq": 0,
              "letter": ""
             },
             {
              "dummy_date": "2018-02-25",
              "freq": 0,
              "letter": ""
             },
             {
              "dummy_date": "2018-02-26",
              "freq": 0,
              "letter": ""
             },
             {
              "dummy_date": "2018-02-27",
              "freq": 0,
              "letter": ""
             },
             {
              "dummy_date": "2018-02-28",
              "freq": 0,
              "letter": ""
             },
             {
              "dummy_date": "2018-03-01",
              "freq": 0,
              "letter": ""
             },
             {
              "dummy_date": "2018-03-02",
              "freq": 0,
              "letter": ""
             },
             {
              "dummy_date": "2018-03-03",
              "freq": 0,
              "letter": ""
             },
             {
              "dummy_date": "2018-03-04",
              "freq": 0,
              "letter": ""
             },
             {
              "dummy_date": "2018-03-05",
              "freq": 0,
              "letter": ""
             },
             {
              "dummy_date": "2018-03-06",
              "freq": 0,
              "letter": ""
             },
             {
              "dummy_date": "2018-03-07",
              "freq": 0,
              "letter": ""
             },
             {
              "dummy_date": "2018-03-08",
              "freq": 0,
              "letter": ""
             },
             {
              "dummy_date": "2018-03-09",
              "freq": 0,
              "letter": ""
             },
             {
              "dummy_date": "2018-03-10",
              "freq": 0,
              "letter": ""
             },
             {
              "dummy_date": "2018-03-11",
              "freq": 0,
              "letter": ""
             },
             {
              "dummy_date": "2018-03-12",
              "freq": 0,
              "letter": ""
             },
             {
              "dummy_date": "2018-03-13",
              "freq": 0,
              "letter": ""
             },
             {
              "dummy_date": "2018-03-14",
              "freq": 0,
              "letter": ""
             },
             {
              "dummy_date": "2018-03-15",
              "freq": 0,
              "letter": ""
             },
             {
              "dummy_date": "2018-03-16",
              "freq": 0,
              "letter": ""
             },
             {
              "dummy_date": "2018-03-17",
              "freq": 0,
              "letter": ""
             },
             {
              "dummy_date": "2018-03-18",
              "freq": 0,
              "letter": ""
             },
             {
              "dummy_date": "2018-03-19",
              "freq": 0,
              "letter": ""
             },
             {
              "dummy_date": "2018-03-20",
              "freq": 0,
              "letter": ""
             },
             {
              "dummy_date": "2018-03-21",
              "freq": 0,
              "letter": ""
             },
             {
              "dummy_date": "2018-03-22",
              "freq": 0,
              "letter": ""
             }
            ]
           },
           "encoding": {
            "color": {
             "value": "red"
            },
            "text": {
             "field": "letter",
             "type": "nominal"
            },
            "tooltip": {
             "field": "letter",
             "type": "nominal"
            },
            "x": {
             "axis": null,
             "field": "dummy_date",
             "type": "temporal"
            },
            "y": {
             "field": "freq",
             "type": "quantitative"
            }
           },
           "height": 200,
           "mark": {
            "dy": -5,
            "type": "text"
           },
           "width": 800
          }
         ]
        }
       ]
      },
      "image/png": "[encoded data removed]",
      "text/plain": [
       "<VegaLite 2 object>\n",
       "\n",
       "If you see this message, it means the renderer has not been properly enabled\n",
       "for the frontend that you are using. For more information, see\n",
       "https://altair-viz.github.io/user_guide/troubleshooting.html\n"
      ]
     },
     "execution_count": 172,
     "metadata": {},
     "output_type": "execute_result"
    }
   ],
   "source": [
    "english_chart_text & cipher_chart_text"
   ]
  },
  {
   "cell_type": "code",
   "execution_count": 62,
   "metadata": {},
   "outputs": [],
   "source": [
    "all_df = pd.merge(cipher_df, english_freq, how=\"outer\", on='letter', ).fillna(0)"
   ]
  },
  {
   "cell_type": "code",
   "execution_count": 69,
   "metadata": {},
   "outputs": [],
   "source": [
    "all_df = all_df.melt(id_vars=\"letter\", var_name=\"type\", value_name=\"freq\")"
   ]
  },
  {
   "cell_type": "code",
   "execution_count": 75,
   "metadata": {},
   "outputs": [
    {
     "data": {
      "application/vnd.vegalite.v2+json": {
       "$schema": "https://vega.github.io/schema/vega-lite/v2.4.3.json",
       "config": {
        "view": {
         "height": 300,
         "width": 400
        }
       },
       "data": {
        "values": [
         {
          "freq": 0.0035650623885918,
          "letter": "A",
          "type": "freq"
         },
         {
          "freq": 0.01693404634581105,
          "letter": "B",
          "type": "freq"
         },
         {
          "freq": 0.026737967914438502,
          "letter": "C",
          "type": "freq"
         },
         {
          "freq": 0.008912655971479501,
          "letter": "D",
          "type": "freq"
         },
         {
          "freq": 0.0374331550802139,
          "letter": "E",
          "type": "freq"
         },
         {
          "freq": 0.07040998217468805,
          "letter": "F",
          "type": "freq"
         },
         {
          "freq": 0.012477718360071301,
          "letter": "G",
          "type": "freq"
         },
         {
          "freq": 0.0053475935828877,
          "letter": "H",
          "type": "freq"
         },
         {
          "freq": 0.07932263814616755,
          "letter": "I",
          "type": "freq"
         },
         {
          "freq": 0.0142602495543672,
          "letter": "J",
          "type": "freq"
         },
         {
          "freq": 0.01693404634581105,
          "letter": "K",
          "type": "freq"
         },
         {
          "freq": 0.0196078431372549,
          "letter": "L",
          "type": "freq"
         },
         {
          "freq": 0.011586452762923352,
          "letter": "M",
          "type": "freq"
         },
         {
          "freq": 0.006238859180035651,
          "letter": "N",
          "type": "freq"
         },
         {
          "freq": 0.0071301247771836,
          "letter": "O",
          "type": "freq"
         },
         {
          "freq": 0.031194295900178252,
          "letter": "P",
          "type": "freq"
         },
         {
          "freq": 0.09180035650623886,
          "letter": "Q",
          "type": "freq"
         },
         {
          "freq": 0.00980392156862745,
          "letter": "R",
          "type": "freq"
         },
         {
          "freq": 0.0374331550802139,
          "letter": "S",
          "type": "freq"
         },
         {
          "freq": 0.06417112299465241,
          "letter": "T",
          "type": "freq"
         },
         {
          "freq": 0.062388591800356503,
          "letter": "U",
          "type": "freq"
         },
         {
          "freq": 0.049910873440285206,
          "letter": "V",
          "type": "freq"
         },
         {
          "freq": 0.023172905525846704,
          "letter": "W",
          "type": "freq"
         },
         {
          "freq": 0.18449197860962566,
          "letter": "X",
          "type": "freq"
         },
         {
          "freq": 0.026737967914438502,
          "letter": "Y",
          "type": "freq"
         },
         {
          "freq": 0.026737967914438502,
          "letter": "Z",
          "type": "freq"
         },
         {
          "freq": 0.05525846702317291,
          "letter": "*",
          "type": "freq"
         },
         {
          "freq": 0.08039622853294422,
          "letter": "A",
          "type": "eng_freq"
         },
         {
          "freq": 0.014844539229992142,
          "letter": "B",
          "type": "eng_freq"
         },
         {
          "freq": 0.033449320911437874,
          "letter": "C",
          "type": "eng_freq"
         },
         {
          "freq": 0.038163654731170726,
          "letter": "D",
          "type": "eng_freq"
         },
         {
          "freq": 0.12492984622292064,
          "letter": "E",
          "type": "eng_freq"
         },
         {
          "freq": 0.024020653271972163,
          "letter": "F",
          "type": "eng_freq"
         },
         {
          "freq": 0.018688966213940957,
          "letter": "G",
          "type": "eng_freq"
         },
         {
          "freq": 0.05053878100796947,
          "letter": "H",
          "type": "eng_freq"
         },
         {
          "freq": 0.07568189471321136,
          "letter": "I",
          "type": "eng_freq"
         },
         {
          "freq": 0.0015995061174093614,
          "letter": "J",
          "type": "eng_freq"
         },
         {
          "freq": 0.005415871590526434,
          "letter": "K",
          "type": "eng_freq"
         },
         {
          "freq": 0.04068919070602761,
          "letter": "L",
          "type": "eng_freq"
         },
         {
          "freq": 0.025115052194410147,
          "letter": "M",
          "type": "eng_freq"
         },
         {
          "freq": 0.07234257492423393,
          "letter": "N",
          "type": "eng_freq"
         },
         {
          "freq": 0.07641149399483668,
          "letter": "O",
          "type": "eng_freq"
         },
         {
          "freq": 0.02135480974295656,
          "letter": "P",
          "type": "eng_freq"
         },
         {
          "freq": 0.0012066449657649567,
          "letter": "Q",
          "type": "eng_freq"
         },
         {
          "freq": 0.06280166124144125,
          "letter": "R",
          "type": "eng_freq"
         },
         {
          "freq": 0.06513076664047593,
          "letter": "S",
          "type": "eng_freq"
         },
         {
          "freq": 0.09274329329891122,
          "letter": "T",
          "type": "eng_freq"
         },
         {
          "freq": 0.027303850039286114,
          "letter": "U",
          "type": "eng_freq"
         },
         {
          "freq": 0.010523066561903693,
          "letter": "V",
          "type": "eng_freq"
         },
         {
          "freq": 0.01675272196655068,
          "letter": "W",
          "type": "eng_freq"
         },
         {
          "freq": 0.0023571669098664274,
          "letter": "X",
          "type": "eng_freq"
         },
         {
          "freq": 0.016640475923223708,
          "letter": "Y",
          "type": "eng_freq"
         },
         {
          "freq": 0.0008979683466157818,
          "letter": "Z",
          "type": "eng_freq"
         },
         {
          "freq": 0,
          "letter": "*",
          "type": "eng_freq"
         }
        ]
       },
       "encoding": {
        "row": {
         "field": "type",
         "type": "ordinal"
        },
        "tooltip": {
         "field": "letter",
         "type": "ordinal"
        },
        "x": {
         "axis": {
          "labelAngle": 0,
          "title": null
         },
         "field": "letter",
         "type": "ordinal"
        },
        "y": {
         "field": "freq",
         "title": null,
         "type": "quantitative"
        }
       },
       "height": 200,
       "mark": "bar",
       "width": 800
      },
      "image/png": "[encoded data removed]",
      "text/plain": [
       "<VegaLite 2 object>\n",
       "\n",
       "If you see this message, it means the renderer has not been properly enabled\n",
       "for the frontend that you are using. For more information, see\n",
       "https://altair-viz.github.io/user_guide/troubleshooting.html\n"
      ]
     },
     "execution_count": 75,
     "metadata": {},
     "output_type": "execute_result"
    }
   ],
   "source": [
    "alt.Chart(all_df).mark_bar().encode(\n",
    "    x=alt.X('letter:O', axis=alt.Axis(labelAngle=0, title=None)),\n",
    "    y=alt.Y('freq:Q', title=None),\n",
    "    row=\"type:O\",\n",
    "    tooltip=\"letter:O\"\n",
    ").properties(width=800, height=200)"
   ]
  },
  {
   "cell_type": "code",
   "execution_count": null,
   "metadata": {},
   "outputs": [],
   "source": []
  }
 ],
 "metadata": {
  "kernelspec": {
   "display_name": "Python 3",
   "language": "python",
   "name": "python3"
  },
  "language_info": {
   "codemirror_mode": {
    "name": "ipython",
    "version": 3
   },
   "file_extension": ".py",
   "mimetype": "text/x-python",
   "name": "python",
   "nbconvert_exporter": "python",
   "pygments_lexer": "ipython3",
   "version": "3.6.6"
  }
 },
 "nbformat": 4,
 "nbformat_minor": 2
}
