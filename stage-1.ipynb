{
 "cells": [
  {
   "cell_type": "markdown",
   "metadata": {},
   "source": [
    "# Cipher Challenge\n",
    "From [Simon Singh's The Code Book](https://simonsingh.net/cryptography/cipher-challenge/the-ciphertexts/)\n",
    "## Stage 1\n",
    "Simple Monoalphabetic Substitution Cipher"
   ]
  },
  {
   "cell_type": "code",
   "execution_count": 1,
   "metadata": {},
   "outputs": [],
   "source": [
    "cipher_text = \"BT JPX RMLX PCUV AMLX ICVJP IBTWXVR CI M LMT’R PMTN, MTN YVCJX CDXV MWMBTRJ JPX AMTNGXRJBAH UQCT JPX QGMRJXV CI JPX YMGG CI JPX HBTW’R QMGMAX; MTN JPX HBTW RMY JPX QMVJ CI JPX PMTN JPMJ YVCJX. JPXT JPX HBTW’R ACUTJXTMTAX YMR APMTWXN, MTN PBR JPCUWPJR JVCUFGXN PBL, RC JPMJ JPX SCBTJR CI PBR GCBTR YXVX GCCRXN, MTN PBR HTXXR RLCJX CTX MWMBTRJ MTCJPXV. JPX HBTW AVBXN MGCUN JC FVBTW BT JPX MRJVCGCWXVR, JPX APMGNXMTR, MTN JPX RCCJPRMEXVR. MTN JPX HBTW RQMHX, MTN RMBN JC JPX YBRX LXT CI FMFEGCT, YPCRCXDXV RPMGG VXMN JPBR YVBJBTW, MTN RPCY LX JPX BTJXVQVXJMJBCT JPXVXCI, RPMGG FX AGCJPXN YBJP RAM\""
   ]
  },
  {
   "cell_type": "code",
   "execution_count": 195,
   "metadata": {},
   "outputs": [
    {
     "name": "stdout",
     "output_type": "stream",
     "text": [
      "BT JPX RMLX PCUV AMLX ICVJP IBTWXVR CI M LMT’R PMTN, MTN YVCJX CDXV MWMBTRJ JPX AMTNGXRJBAH UQCT JPX QGMRJXV CI JPX YMGG CI JPX HBTW’R QMGMAX; MTN JPX HBTW RMY JPX QMVJ CI JPX PMTN JPMJ YVCJX. JPXT JPX HBTW’R ACUTJXTMTAX YMR APMTWXN, MTN PBR JPCUWPJR JVCUFGXN PBL, RC JPMJ JPX SCBTJR CI PBR GCBTR YXVX GCCRXN, MTN PBR HTXXR RLCJX CTX MWMBTRJ MTCJPXV. JPX HBTW AVBXN MGCUN JC FVBTW BT JPX MRJVCGCWXVR, JPX APMGNXMTR, MTN JPX RCCJPRMEXVR. MTN JPX HBTW RQMHX, MTN RMBN JC JPX YBRX LXT CI FMFEGCT, YPCRCXDXV RPMGG VXMN JPBR YVBJBTW, MTN RPCY LX JPX BTJXVQVXJMJBCT JPXVXCI, RPMGG FX AGCJPXN YBJP RAM\n"
     ]
    }
   ],
   "source": [
    "print(cipher_text)"
   ]
  },
  {
   "cell_type": "markdown",
   "metadata": {},
   "source": [
    "Let's break down the frequency of the letters in the cipher text."
   ]
  },
  {
   "cell_type": "code",
   "execution_count": 18,
   "metadata": {},
   "outputs": [],
   "source": [
    "import altair as alt"
   ]
  },
  {
   "cell_type": "code",
   "execution_count": 20,
   "metadata": {},
   "outputs": [],
   "source": [
    "from collections import Counter"
   ]
  },
  {
   "cell_type": "code",
   "execution_count": 24,
   "metadata": {},
   "outputs": [],
   "source": [
    "cipher_freq = sorted(Counter(cipher_text).items())"
   ]
  },
  {
   "cell_type": "code",
   "execution_count": 26,
   "metadata": {},
   "outputs": [],
   "source": [
    "import pandas as pd"
   ]
  },
  {
   "cell_type": "code",
   "execution_count": 124,
   "metadata": {},
   "outputs": [],
   "source": [
    "cipher_text_df = (pd.DataFrame.from_records(cipher_freq, columns=[\"letter\", \"freq\"])\n",
    "                  .iloc[4:27] # remove special characters (spaces, points, ...)\n",
    "                  .reset_index(drop=True)\n",
    "                 )"
   ]
  },
  {
   "cell_type": "code",
   "execution_count": 44,
   "metadata": {},
   "outputs": [
    {
     "data": {
      "text/html": [
       "<div>\n",
       "<style scoped>\n",
       "    .dataframe tbody tr th:only-of-type {\n",
       "        vertical-align: middle;\n",
       "    }\n",
       "\n",
       "    .dataframe tbody tr th {\n",
       "        vertical-align: top;\n",
       "    }\n",
       "\n",
       "    .dataframe thead th {\n",
       "        text-align: right;\n",
       "    }\n",
       "</style>\n",
       "<table border=\"1\" class=\"dataframe\">\n",
       "  <thead>\n",
       "    <tr style=\"text-align: right;\">\n",
       "      <th></th>\n",
       "      <th>letter</th>\n",
       "      <th>freq</th>\n",
       "    </tr>\n",
       "  </thead>\n",
       "  <tbody>\n",
       "    <tr>\n",
       "      <th>18</th>\n",
       "      <td>U</td>\n",
       "      <td>6</td>\n",
       "    </tr>\n",
       "    <tr>\n",
       "      <th>19</th>\n",
       "      <td>V</td>\n",
       "      <td>22</td>\n",
       "    </tr>\n",
       "    <tr>\n",
       "      <th>20</th>\n",
       "      <td>W</td>\n",
       "      <td>13</td>\n",
       "    </tr>\n",
       "    <tr>\n",
       "      <th>21</th>\n",
       "      <td>X</td>\n",
       "      <td>56</td>\n",
       "    </tr>\n",
       "    <tr>\n",
       "      <th>22</th>\n",
       "      <td>Y</td>\n",
       "      <td>11</td>\n",
       "    </tr>\n",
       "  </tbody>\n",
       "</table>\n",
       "</div>"
      ],
      "text/plain": [
       "   letter  freq\n",
       "18      U     6\n",
       "19      V    22\n",
       "20      W    13\n",
       "21      X    56\n",
       "22      Y    11"
      ]
     },
     "execution_count": 44,
     "metadata": {},
     "output_type": "execute_result"
    }
   ],
   "source": [
    "cipher_text_df.tail()"
   ]
  },
  {
   "cell_type": "code",
   "execution_count": 56,
   "metadata": {},
   "outputs": [
    {
     "data": {
      "application/vnd.vegalite.v2+json": {
       "$schema": "https://vega.github.io/schema/vega-lite/v2.4.3.json",
       "config": {
        "view": {
         "height": 300,
         "width": 400
        }
       },
       "data": {
        "values": [
         {
          "freq": 11,
          "letter": "A"
         },
         {
          "freq": 27,
          "letter": "B"
         },
         {
          "freq": 37,
          "letter": "C"
         },
         {
          "freq": 2,
          "letter": "D"
         },
         {
          "freq": 2,
          "letter": "E"
         },
         {
          "freq": 5,
          "letter": "F"
         },
         {
          "freq": 17,
          "letter": "G"
         },
         {
          "freq": 8,
          "letter": "H"
         },
         {
          "freq": 9,
          "letter": "I"
         },
         {
          "freq": 49,
          "letter": "J"
         },
         {
          "freq": 7,
          "letter": "L"
         },
         {
          "freq": 44,
          "letter": "M"
         },
         {
          "freq": 20,
          "letter": "N"
         },
         {
          "freq": 42,
          "letter": "P"
         },
         {
          "freq": 6,
          "letter": "Q"
         },
         {
          "freq": 36,
          "letter": "R"
         },
         {
          "freq": 1,
          "letter": "S"
         },
         {
          "freq": 40,
          "letter": "T"
         },
         {
          "freq": 6,
          "letter": "U"
         },
         {
          "freq": 22,
          "letter": "V"
         },
         {
          "freq": 13,
          "letter": "W"
         },
         {
          "freq": 56,
          "letter": "X"
         },
         {
          "freq": 11,
          "letter": "Y"
         }
        ]
       },
       "encoding": {
        "x": {
         "axis": {
          "labelAngle": 0
         },
         "field": "letter",
         "type": "ordinal"
        },
        "y": {
         "field": "freq",
         "type": "quantitative"
        }
       },
       "mark": "bar"
      },
      "image/png": "[encoded data removed]",
      "text/plain": [
       "<VegaLite 2 object>\n",
       "\n",
       "If you see this message, it means the renderer has not been properly enabled\n",
       "for the frontend that you are using. For more information, see\n",
       "https://altair-viz.github.io/user_guide/troubleshooting.html\n"
      ]
     },
     "execution_count": 56,
     "metadata": {},
     "output_type": "execute_result"
    }
   ],
   "source": [
    "alt.Chart(cipher_text_df).mark_bar().encode(\n",
    "    x=alt.X(\"letter:O\", axis=alt.Axis(labelAngle=0)),\n",
    "    y=alt.Y(\"freq:Q\")\n",
    ")"
   ]
  },
  {
   "cell_type": "markdown",
   "metadata": {},
   "source": [
    "From http://norvig.com/mayzner.html"
   ]
  },
  {
   "cell_type": "code",
   "execution_count": 49,
   "metadata": {},
   "outputs": [],
   "source": [
    "from io import StringIO"
   ]
  },
  {
   "cell_type": "code",
   "execution_count": 110,
   "metadata": {},
   "outputs": [],
   "source": [
    "english_freq = pd.read_fwf(StringIO(\"\"\"LET COUNT\n",
    "E   445.2\n",
    "T   330.5\n",
    "A   286.5\n",
    "O   272.3\n",
    "I   269.7\n",
    "N   257.8\n",
    "S   232.1\n",
    "R   223.8\n",
    "H   180.1\n",
    "L   145.0\n",
    "D   136.0\n",
    "C   119.2\n",
    "U   97.3\n",
    "M   89.5\n",
    "F   85.6\n",
    "P   76.1\n",
    "G   66.6\n",
    "W   59.7\n",
    "Y   59.3\n",
    "B   52.9\n",
    "V   37.5\n",
    "K   19.3\n",
    "X   8.4\n",
    "J   5.7\n",
    "Q   4.3\n",
    "Z   3.2\"\"\"), names=[\"letter\", \"eng_freq\"], header=0)"
   ]
  },
  {
   "cell_type": "code",
   "execution_count": 127,
   "metadata": {},
   "outputs": [],
   "source": [
    "cipher_text_df.sort_values(by=\"freq\", inplace=True, ascending=False)"
   ]
  },
  {
   "cell_type": "raw",
   "metadata": {},
   "source": [
    "cipher_text_df[\"freq\"] = cipher_text_df[\"freq\"] / cipher_text_df[\"freq\"].max()\n",
    "english_freq[\"eng_freq\"] = english_freq.eng_freq / english_freq.eng_freq.max()"
   ]
  },
  {
   "cell_type": "raw",
   "metadata": {},
   "source": [
    "all_freqs = (pd.merge(english_freq, cipher_text_df, how='left')\n",
    "             .melt(id_vars=\"letter\", var_name=\"type\", value_name=\"freq\")\n",
    "             .fillna(0)\n",
    "            )"
   ]
  },
  {
   "cell_type": "raw",
   "metadata": {},
   "source": [
    "all_freqs.tail()"
   ]
  },
  {
   "cell_type": "code",
   "execution_count": 114,
   "metadata": {},
   "outputs": [
    {
     "data": {
      "text/html": [
       "<div>\n",
       "<style scoped>\n",
       "    .dataframe tbody tr th:only-of-type {\n",
       "        vertical-align: middle;\n",
       "    }\n",
       "\n",
       "    .dataframe tbody tr th {\n",
       "        vertical-align: top;\n",
       "    }\n",
       "\n",
       "    .dataframe thead th {\n",
       "        text-align: right;\n",
       "    }\n",
       "</style>\n",
       "<table border=\"1\" class=\"dataframe\">\n",
       "  <thead>\n",
       "    <tr style=\"text-align: right;\">\n",
       "      <th></th>\n",
       "      <th>letter</th>\n",
       "      <th>freq</th>\n",
       "    </tr>\n",
       "  </thead>\n",
       "  <tbody>\n",
       "    <tr>\n",
       "      <th>16</th>\n",
       "      <td>S</td>\n",
       "      <td>0.017857</td>\n",
       "    </tr>\n",
       "    <tr>\n",
       "      <th>3</th>\n",
       "      <td>D</td>\n",
       "      <td>0.035714</td>\n",
       "    </tr>\n",
       "    <tr>\n",
       "      <th>4</th>\n",
       "      <td>E</td>\n",
       "      <td>0.035714</td>\n",
       "    </tr>\n",
       "    <tr>\n",
       "      <th>5</th>\n",
       "      <td>F</td>\n",
       "      <td>0.089286</td>\n",
       "    </tr>\n",
       "    <tr>\n",
       "      <th>18</th>\n",
       "      <td>U</td>\n",
       "      <td>0.107143</td>\n",
       "    </tr>\n",
       "  </tbody>\n",
       "</table>\n",
       "</div>"
      ],
      "text/plain": [
       "   letter      freq\n",
       "16      S  0.017857\n",
       "3       D  0.035714\n",
       "4       E  0.035714\n",
       "5       F  0.089286\n",
       "18      U  0.107143"
      ]
     },
     "execution_count": 114,
     "metadata": {},
     "output_type": "execute_result"
    }
   ],
   "source": [
    "cipher_text_df.head()"
   ]
  },
  {
   "cell_type": "code",
   "execution_count": 116,
   "metadata": {},
   "outputs": [
    {
     "data": {
      "application/vnd.vegalite.v2+json": {
       "$schema": "https://vega.github.io/schema/vega-lite/v2.4.3.json",
       "config": {
        "view": {
         "height": 300,
         "width": 400
        }
       },
       "vconcat": [
        {
         "data": {
          "values": [
           {
            "freq": 0.017857142857142856,
            "letter": "S"
           },
           {
            "freq": 0.03571428571428571,
            "letter": "D"
           },
           {
            "freq": 0.03571428571428571,
            "letter": "E"
           },
           {
            "freq": 0.08928571428571429,
            "letter": "F"
           },
           {
            "freq": 0.10714285714285714,
            "letter": "U"
           },
           {
            "freq": 0.10714285714285714,
            "letter": "Q"
           },
           {
            "freq": 0.125,
            "letter": "L"
           },
           {
            "freq": 0.14285714285714285,
            "letter": "H"
           },
           {
            "freq": 0.16071428571428573,
            "letter": "I"
           },
           {
            "freq": 0.19642857142857142,
            "letter": "A"
           },
           {
            "freq": 0.19642857142857142,
            "letter": "Y"
           },
           {
            "freq": 0.23214285714285715,
            "letter": "W"
           },
           {
            "freq": 0.30357142857142855,
            "letter": "G"
           },
           {
            "freq": 0.35714285714285715,
            "letter": "N"
           },
           {
            "freq": 0.39285714285714285,
            "letter": "V"
           },
           {
            "freq": 0.48214285714285715,
            "letter": "B"
           },
           {
            "freq": 0.6428571428571429,
            "letter": "R"
           },
           {
            "freq": 0.6607142857142857,
            "letter": "C"
           },
           {
            "freq": 0.7142857142857143,
            "letter": "T"
           },
           {
            "freq": 0.75,
            "letter": "P"
           },
           {
            "freq": 0.7857142857142857,
            "letter": "M"
           },
           {
            "freq": 0.875,
            "letter": "J"
           },
           {
            "freq": 1,
            "letter": "X"
           }
          ]
         },
         "encoding": {
          "x": {
           "axis": {
            "labelAngle": 0
           },
           "field": "letter",
           "sort": {
            "field": "freq",
            "op": "sum",
            "order": "descending"
           },
           "type": "nominal"
          },
          "y": {
           "field": "freq",
           "type": "quantitative"
          }
         },
         "mark": "bar"
        },
        {
         "data": {
          "values": [
           {
            "eng_freq": 445.2,
            "letter": "E"
           },
           {
            "eng_freq": 330.5,
            "letter": "T"
           },
           {
            "eng_freq": 286.5,
            "letter": "A"
           },
           {
            "eng_freq": 272.3,
            "letter": "O"
           },
           {
            "eng_freq": 269.7,
            "letter": "I"
           },
           {
            "eng_freq": 257.8,
            "letter": "N"
           },
           {
            "eng_freq": 232.1,
            "letter": "S"
           },
           {
            "eng_freq": 223.8,
            "letter": "R"
           },
           {
            "eng_freq": 180.1,
            "letter": "H"
           },
           {
            "eng_freq": 145,
            "letter": "L"
           },
           {
            "eng_freq": 136,
            "letter": "D"
           },
           {
            "eng_freq": 119.2,
            "letter": "C"
           },
           {
            "eng_freq": 97.3,
            "letter": "U"
           },
           {
            "eng_freq": 89.5,
            "letter": "M"
           },
           {
            "eng_freq": 85.6,
            "letter": "F"
           },
           {
            "eng_freq": 76.1,
            "letter": "P"
           },
           {
            "eng_freq": 66.6,
            "letter": "G"
           },
           {
            "eng_freq": 59.7,
            "letter": "W"
           },
           {
            "eng_freq": 59.3,
            "letter": "Y"
           },
           {
            "eng_freq": 52.9,
            "letter": "B"
           },
           {
            "eng_freq": 37.5,
            "letter": "V"
           },
           {
            "eng_freq": 19.3,
            "letter": "K"
           },
           {
            "eng_freq": 8.4,
            "letter": "X"
           },
           {
            "eng_freq": 5.7,
            "letter": "J"
           },
           {
            "eng_freq": 4.3,
            "letter": "Q"
           },
           {
            "eng_freq": 3.2,
            "letter": "Z"
           }
          ]
         },
         "encoding": {
          "x": {
           "axis": {
            "labelAngle": 0
           },
           "field": "letter",
           "sort": {
            "field": "eng_freq",
            "op": "sum",
            "order": "descending"
           },
           "type": "nominal"
          },
          "y": {
           "field": "eng_freq",
           "type": "quantitative"
          }
         },
         "mark": "bar"
        }
       ]
      },
      "image/png": "[encoded data removed]",
      "text/plain": [
       "<VegaLite 2 object>\n",
       "\n",
       "If you see this message, it means the renderer has not been properly enabled\n",
       "for the frontend that you are using. For more information, see\n",
       "https://altair-viz.github.io/user_guide/troubleshooting.html\n"
      ]
     },
     "execution_count": 116,
     "metadata": {},
     "output_type": "execute_result"
    }
   ],
   "source": [
    "alt.Chart(cipher_text_df).mark_bar().encode(\n",
    "    x=alt.X(\"letter:N\", \n",
    "            axis=alt.Axis(labelAngle=0), \n",
    "            sort=alt.SortField(field='freq', op='sum', order='descending')),\n",
    "    y=alt.Y(\"freq:Q\"),\n",
    ") & alt.Chart(english_freq).mark_bar().encode(\n",
    "    x=alt.X(\"letter:N\", \n",
    "            axis=alt.Axis(labelAngle=0), \n",
    "            sort=alt.SortField(field='eng_freq', op='sum', order='descending')),\n",
    "    y=\"eng_freq:Q\"\n",
    ")"
   ]
  },
  {
   "cell_type": "code",
   "execution_count": 129,
   "metadata": {},
   "outputs": [],
   "source": [
    "cipher_dict = dict(zip(cipher_text_df.letter.values, english_freq.letter.values))"
   ]
  },
  {
   "cell_type": "code",
   "execution_count": 131,
   "metadata": {},
   "outputs": [],
   "source": [
    "deciphered = \"\"\n",
    "for letter in cipher_text:\n",
    "    if letter not in \"ABCDEFGHIJKLMNOPQRSTUVWXYZ\":\n",
    "        new_letter = letter\n",
    "    else:\n",
    "        new_letter = cipher_dict[letter]\n",
    "    deciphered += new_letter"
   ]
  },
  {
   "cell_type": "code",
   "execution_count": 132,
   "metadata": {},
   "outputs": [
    {
     "data": {
      "text/plain": [
       "'RI TOE SAGE ONYH MAGE FNHTO FRICEHS NF A GAI’S OAIL, AIL UHNTE NVEH ACARIST TOE MAILDESTRMP YWNI TOE WDASTEH NF TOE UADD NF TOE PRIC’S WADAME; AIL TOE PRIC SAU TOE WAHT NF TOE OAIL TOAT UHNTE. TOEI TOE PRIC’S MNYITEIAIME UAS MOAICEL, AIL ORS TONYCOTS THNYBDEL ORG, SN TOAT TOE XNRITS NF ORS DNRIS UEHE DNNSEL, AIL ORS PIEES SGNTE NIE ACARIST AINTOEH. TOE PRIC MHREL ADNYL TN BHRIC RI TOE ASTHNDNCEHS, TOE MOADLEAIS, AIL TOE SNNTOSAKEHS. AIL TOE PRIC SWAPE, AIL SARL TN TOE URSE GEI NF BABKDNI, UONSNEVEH SOADD HEAL TORS UHRTRIC, AIL SONU GE TOE RITEHWHETATRNI TOEHENF, SOADD BE MDNTOEL URTO SMA'"
      ]
     },
     "execution_count": 132,
     "metadata": {},
     "output_type": "execute_result"
    }
   ],
   "source": [
    "deciphered"
   ]
  },
  {
   "cell_type": "code",
   "execution_count": 133,
   "metadata": {},
   "outputs": [
    {
     "data": {
      "text/plain": [
       "'BT JPX RMLX PCUV AMLX ICVJP IBTWXVR CI M LMT’R PMTN, MTN YVCJX CDXV MWMBTRJ JPX AMTNGXRJBAH UQCT JPX QGMRJXV CI JPX YMGG CI JPX HBTW’R QMGMAX; MTN JPX HBTW RMY JPX QMVJ CI JPX PMTN JPMJ YVCJX. JPXT JPX HBTW’R ACUTJXTMTAX YMR APMTWXN, MTN PBR JPCUWPJR JVCUFGXN PBL, RC JPMJ JPX SCBTJR CI PBR GCBTR YXVX GCCRXN, MTN PBR HTXXR RLCJX CTX MWMBTRJ MTCJPXV. JPX HBTW AVBXN MGCUN JC FVBTW BT JPX MRJVCGCWXVR, JPX APMGNXMTR, MTN JPX RCCJPRMEXVR. MTN JPX HBTW RQMHX, MTN RMBN JC JPX YBRX LXT CI FMFEGCT, YPCRCXDXV RPMGG VXMN JPBR YVBJBTW, MTN RPCY LX JPX BTJXVQVXJMJBCT JPXVXCI, RPMGG FX AGCJPXN YBJP RAM'"
      ]
     },
     "execution_count": 133,
     "metadata": {},
     "output_type": "execute_result"
    }
   ],
   "source": [
    "cipher_text"
   ]
  },
  {
   "cell_type": "markdown",
   "metadata": {},
   "source": [
    "This didn't work at all (but I got to play with altair, which is always nice). Let's use another information in the text: we have the punctuation and the words separated. We can look up for frequent words."
   ]
  },
  {
   "cell_type": "code",
   "execution_count": 137,
   "metadata": {},
   "outputs": [
    {
     "data": {
      "text/plain": [
       "[('JPX', 17),\n",
       " ('MTN', 8),\n",
       " ('CI', 6),\n",
       " ('HBTW', 3),\n",
       " ('PBR', 3),\n",
       " ('BT', 2),\n",
       " ('MWMBTRJ', 2),\n",
       " ('HBTW’R', 2),\n",
       " ('JPMJ', 2),\n",
       " ('JC', 2)]"
      ]
     },
     "execution_count": 137,
     "metadata": {},
     "output_type": "execute_result"
    }
   ],
   "source": [
    "Counter(cipher_text.split()).most_common(10)"
   ]
  },
  {
   "cell_type": "markdown",
   "metadata": {},
   "source": [
    "I started with the 2 words above as \"THE\" and \"AND\", and then found letters one after another, updating the dict going along.\n",
    "The function beneath is useful to show the deciphered letters in upper case and the yet to be deduced letters in lower case."
   ]
  },
  {
   "cell_type": "code",
   "execution_count": 198,
   "metadata": {},
   "outputs": [],
   "source": [
    "def decipher_with_dict(cipher_dict):\n",
    "    deciphered = \"\"\n",
    "    for letter in cipher_text:\n",
    "        deciphered += cipher_dict.get(letter, letter.lower())\n",
    "    return deciphered"
   ]
  },
  {
   "cell_type": "code",
   "execution_count": 199,
   "metadata": {},
   "outputs": [
    {
     "data": {
      "text/plain": [
       "'bN THE rAlE Hcuv aAlE icvTH ibNwEvr ci A lAN’r HAND, AND yvcTE cdEv AwAbNrT THE aANDgErTbah uqcN THE qgArTEv ci THE yAgg ci THE hbNw’r qAgAaE; AND THE hbNw rAy THE qAvT ci THE HAND THAT yvcTE. THEN THE hbNw’r acuNTENANaE yAr aHANwED, AND Hbr THcuwHTr TvcufgED Hbl, rc THAT THE scbNTr ci Hbr gcbNr yEvE gccrED, AND Hbr hNEEr rlcTE cNE AwAbNrT ANcTHEv. THE hbNw avbED AgcuD Tc fvbNw bN THE ArTvcgcwEvr, THE aHAgDEANr, AND THE rccTHrAeEvr. AND THE hbNw rqAhE, AND rAbD Tc THE ybrE lEN ci fAfegcN, yHcrcEdEv rHAgg vEAD THbr yvbTbNw, AND rHcy lE THE bNTEvqvETATbcN THEvEci, rHAgg fE agcTHED ybTH raA'"
      ]
     },
     "execution_count": 199,
     "metadata": {},
     "output_type": "execute_result"
    }
   ],
   "source": [
    "decipher_with_dict(dict(zip(\"JPXMTN\", \"THEAND\")))"
   ]
  },
  {
   "cell_type": "markdown",
   "metadata": {},
   "source": [
    "Some words seem nice, like \"THE HAND THAT\", so we seem in the right track!\n",
    "We can notice the \" 'S \" pattern with the punctuation, so \"r\" -> \"S\". The first word looks like \"IN\", so let's try \"b\" -> \"I\""
   ]
  },
  {
   "cell_type": "code",
   "execution_count": 200,
   "metadata": {},
   "outputs": [
    {
     "data": {
      "text/plain": [
       "'IN THE SAlE Hcuv aAlE icvTH iINwEvS ci A lAN’S HAND, AND yvcTE cdEv AwAINST THE aANDgESTIah uqcN THE qgASTEv ci THE yAgg ci THE hINw’S qAgAaE; AND THE hINw SAy THE qAvT ci THE HAND THAT yvcTE. THEN THE hINw’S acuNTENANaE yAS aHANwED, AND HIS THcuwHTS TvcufgED HIl, Sc THAT THE scINTS ci HIS gcINS yEvE gccSED, AND HIS hNEES SlcTE cNE AwAINST ANcTHEv. THE hINw avIED AgcuD Tc fvINw IN THE ASTvcgcwEvS, THE aHAgDEANS, AND THE SccTHSAeEvS. AND THE hINw SqAhE, AND SAID Tc THE yISE lEN ci fAfegcN, yHcScEdEv SHAgg vEAD THIS yvITINw, AND SHcy lE THE INTEvqvETATIcN THEvEci, SHAgg fE agcTHED yITH SaA'"
      ]
     },
     "execution_count": 200,
     "metadata": {},
     "output_type": "execute_result"
    }
   ],
   "source": [
    "decipher_with_dict(dict(zip(\"JPXMTNRB\", \"THEANDSI\")))"
   ]
  },
  {
   "cell_type": "markdown",
   "metadata": {},
   "source": [
    "'ci' could be \"OF\", let's try that; and at the end of the text, the big word looks like \"INTERPRETATION\", so we get 'vq' -> 'RP'"
   ]
  },
  {
   "cell_type": "code",
   "execution_count": 201,
   "metadata": {},
   "outputs": [
    {
     "data": {
      "text/plain": [
       "'IN THE SAlE HOuR aAlE FORTH FINwERS OF A lAN’S HAND, AND yROTE OdER AwAINST THE aANDgESTIah uPON THE PgASTER OF THE yAgg OF THE hINw’S PAgAaE; AND THE hINw SAy THE PART OF THE HAND THAT yROTE. THEN THE hINw’S aOuNTENANaE yAS aHANwED, AND HIS THOuwHTS TROufgED HIl, SO THAT THE sOINTS OF HIS gOINS yERE gOOSED, AND HIS hNEES SlOTE ONE AwAINST ANOTHER. THE hINw aRIED AgOuD TO fRINw IN THE ASTROgOwERS, THE aHAgDEANS, AND THE SOOTHSAeERS. AND THE hINw SPAhE, AND SAID TO THE yISE lEN OF fAfegON, yHOSOEdER SHAgg READ THIS yRITINw, AND SHOy lE THE INTERPRETATION THEREOF, SHAgg fE agOTHED yITH SaA'"
      ]
     },
     "execution_count": 201,
     "metadata": {},
     "output_type": "execute_result"
    }
   ],
   "source": [
    "decipher_with_dict(dict(zip(\"JPXMTNRBCIVQ\", \"THEANDSIOFRP\")))"
   ]
  },
  {
   "cell_type": "markdown",
   "metadata": {},
   "source": [
    "And so on, until we find"
   ]
  },
  {
   "cell_type": "code",
   "execution_count": 203,
   "metadata": {},
   "outputs": [
    {
     "data": {
      "text/plain": [
       "'IN THE SAME HOUR CAME FORTH FINGERS OF A MAN’S HAND, AND WROTE OVER AGAINST THE CANDLESTICK UPON THE PLASTER OF THE WALL OF THE KING’S PALACE; AND THE KING SAW THE PART OF THE HAND THAT WROTE. THEN THE KING’S COUNTENANCE WAS CHANGED, AND HIS THOUGHTS TROUBLED HIM, SO THAT THE JOINTS OF HIS LOINS WERE LOOSED, AND HIS KNEES SMOTE ONE AGAINST ANOTHER. THE KING CRIED ALOUD TO BRING IN THE ASTROLOGERS, THE CHALDEANS, AND THE SOOTHSAYERS. AND THE KING SPAKE, AND SAID TO THE WISE MEN OF BABYLON, WHOSOEVER SHALL READ THIS WRITING, AND SHOW ME THE INTERPRETATION THEREOF, SHALL BE CLOTHED WITH SCA'"
      ]
     },
     "execution_count": 203,
     "metadata": {},
     "output_type": "execute_result"
    }
   ],
   "source": [
    "decipher_with_dict(dict(zip(\"JPXMTNRBCVQIWLUHYAGFEDS\", \"THEANDSIORPFGMUKWCLBYVJ\")))"
   ]
  },
  {
   "cell_type": "markdown",
   "metadata": {},
   "source": [
    "With comes from here: https://www.kingjamesbibleonline.org/Daniel-5-5/\n",
    "And that's it!"
   ]
  },
  {
   "cell_type": "code",
   "execution_count": 204,
   "metadata": {},
   "outputs": [
    {
     "data": {
      "text/plain": [
       "[('THE', 17),\n",
       " ('AND', 8),\n",
       " ('OF', 6),\n",
       " ('KING', 3),\n",
       " ('HIS', 3),\n",
       " ('IN', 2),\n",
       " ('AGAINST', 2),\n",
       " ('KING’S', 2),\n",
       " ('THAT', 2),\n",
       " ('TO', 2)]"
      ]
     },
     "execution_count": 204,
     "metadata": {},
     "output_type": "execute_result"
    }
   ],
   "source": [
    "Counter(decipher_with_dict(dict(zip(\"JPXMTNRBCVQIWLUHYAGFEDS\", \"THEANDSIORPFGMUKWCLBYVJ\"))).split()).most_common(10)"
   ]
  }
 ],
 "metadata": {
  "kernelspec": {
   "display_name": "Python 3",
   "language": "python",
   "name": "python3"
  },
  "language_info": {
   "codemirror_mode": {
    "name": "ipython",
    "version": 3
   },
   "file_extension": ".py",
   "mimetype": "text/x-python",
   "name": "python",
   "nbconvert_exporter": "python",
   "pygments_lexer": "ipython3",
   "version": "3.6.6"
  }
 },
 "nbformat": 4,
 "nbformat_minor": 2
}
